{
  "nbformat": 4,
  "nbformat_minor": 0,
  "metadata": {
    "kernelspec": {
      "display_name": "Python 3",
      "language": "python",
      "name": "python3"
    },
    "language_info": {
      "codemirror_mode": {
        "name": "ipython",
        "version": 3
      },
      "file_extension": ".py",
      "mimetype": "text/x-python",
      "name": "python",
      "nbconvert_exporter": "python",
      "pygments_lexer": "ipython3",
      "version": "3.8.1"
    },
    "colab": {
      "name": "Final Airbnb challenge.ipynb",
      "provenance": [],
      "collapsed_sections": [
        "VLNklvcJ7eQu",
        "F9TvbfZT4dM_"
      ],
      "include_colab_link": true
    }
  },
  "cells": [
    {
      "cell_type": "markdown",
      "metadata": {
        "id": "view-in-github",
        "colab_type": "text"
      },
      "source": [
        "<a href=\"https://colab.research.google.com/github/colin-lag/Airbnb-Big-Data/blob/master/Airbnb_challenge.ipynb\" target=\"_parent\"><img src=\"https://colab.research.google.com/assets/colab-badge.svg\" alt=\"Open In Colab\"/></a>"
      ]
    },
    {
      "cell_type": "markdown",
      "metadata": {
        "id": "FReCgvql7FG-"
      },
      "source": [
        "## Download the data"
      ]
    },
    {
      "cell_type": "code",
      "metadata": {
        "id": "ZElEqLPz2dLZ",
        "outputId": "2701d151-4cb9-4180-fbbe-2e2073a4caec",
        "colab": {
          "base_uri": "https://localhost:8080/",
          "height": 68
        }
      },
      "source": [
        "# Download data - please only run this once\n",
        "import urllib.request\n",
        "import zipfile\n",
        "import os\n",
        "\n",
        "print(\"Starting download ...\")\n",
        "url = \"https://github.com/aihack20/airbnb_challenge/releases/download/data/data-airbnb.zip\"\n",
        "with urllib.request.urlopen(url) as src:\n",
        "    with open(\"tmp_airbnb_data.zip\", \"wb\") as dest:\n",
        "        dest.write(src.read())\n",
        "print(\"Unpacking archive ...\")\n",
        "os.makedirs(\"airbnb_data\", exist_ok=True)\n",
        "with zipfile.ZipFile(\"tmp_airbnb_data.zip\", compression=zipfile.ZIP_DEFLATED) as zip_f:\n",
        "    zip_f.extractall(\"airbnb_data\")\n",
        "print(\"Done!\")"
      ],
      "execution_count": null,
      "outputs": [
        {
          "output_type": "stream",
          "text": [
            "Starting download ...\n",
            "Unpacking archive ...\n",
            "Done!\n"
          ],
          "name": "stdout"
        }
      ]
    },
    {
      "cell_type": "code",
      "metadata": {
        "id": "GiCN65jM2dLf"
      },
      "source": [
        "import pandas as pd\n",
        "from matplotlib import pyplot as plt"
      ],
      "execution_count": null,
      "outputs": []
    },
    {
      "cell_type": "code",
      "metadata": {
        "id": "ViPjUgBu2dLk"
      },
      "source": [
        "# Load the data (will take a short while)\n",
        "\n",
        "listings = pd.read_csv(\"airbnb_data/listings.csv\")\n",
        "real_estate = pd.read_csv(\"airbnb_data/real_estate.csv\")\n",
        "venues = pd.read_csv(\"airbnb_data/venues.csv\")"
      ],
      "execution_count": null,
      "outputs": []
    },
    {
      "cell_type": "code",
      "metadata": {
        "id": "FycAY4WwCCvV"
      },
      "source": [
        "# remove warnings\n",
        "\n",
        "import warnings\n",
        "warnings.filterwarnings('ignore')"
      ],
      "execution_count": null,
      "outputs": []
    },
    {
      "cell_type": "markdown",
      "metadata": {
        "id": "foS1Fiev7P2c"
      },
      "source": [
        "## Restrict listings to ones in NYC"
      ]
    },
    {
      "cell_type": "code",
      "metadata": {
        "id": "zEOGHaF6HOB8"
      },
      "source": [
        "# restricting the problem to NYC allows us to better focuse the price range on a given area"
      ],
      "execution_count": null,
      "outputs": []
    },
    {
      "cell_type": "code",
      "metadata": {
        "id": "XEANdxbY2dLn"
      },
      "source": [
        "listings_NYC = listings[listings['metropolitan'] == 'NYC']"
      ],
      "execution_count": null,
      "outputs": []
    },
    {
      "cell_type": "code",
      "metadata": {
        "id": "YlcjdzT52dLq",
        "outputId": "de72e3e6-48d7-483a-b7f2-a1bf244bada0",
        "colab": {
          "base_uri": "https://localhost:8080/",
          "height": 34
        }
      },
      "source": [
        "len(listings_NYC)"
      ],
      "execution_count": null,
      "outputs": [
        {
          "output_type": "execute_result",
          "data": {
            "text/plain": [
              "40740"
            ]
          },
          "metadata": {
            "tags": []
          },
          "execution_count": 7
        }
      ]
    },
    {
      "cell_type": "markdown",
      "metadata": {
        "id": "Po0pB-NF7tCP"
      },
      "source": [
        "## Plotting prices on a map of NYC"
      ]
    },
    {
      "cell_type": "code",
      "metadata": {
        "id": "gvbfCeom2dML"
      },
      "source": [
        "import matplotlib as mpl\n",
        "import numpy as np\n",
        "import matplotlib.pyplot as plt\n",
        "import matplotlib.colors as colors\n",
        "import matplotlib.cbook as cbook\n",
        "import matplotlib.pyplot as plt\n",
        "\n",
        "norm = mpl.colors.Normalize(vmin=-1.,vmax=1.)"
      ],
      "execution_count": null,
      "outputs": []
    },
    {
      "cell_type": "code",
      "metadata": {
        "id": "9eVjev0u2dMP",
        "outputId": "86665321-b511-42d6-8cd0-ab8505725362",
        "colab": {
          "base_uri": "https://localhost:8080/",
          "height": 432
        }
      },
      "source": [
        "listings_NYC.plot(kind='scatter', x='longitude', y='latitude', alpha=0.4,\n",
        "                 figsize=(10,7), c='price', cmap=plt.get_cmap('jet'), colorbar=True,\n",
        "                 norm=colors.LogNorm(vmin=listings_NYC['price'].min()*4, vmax=listings_NYC['price'].max()/15)\n",
        "                 )\n",
        "\n",
        "plt.legend()\n",
        "plt.show()"
      ],
      "execution_count": null,
      "outputs": [
        {
          "output_type": "stream",
          "text": [
            "No handles with labels found to put in legend.\n"
          ],
          "name": "stderr"
        },
        {
          "output_type": "display_data",
          "data": {
            "image/png": "[encoded data removed]",
            "text/plain": [
              "<Figure size 720x504 with 2 Axes>"
            ]
          },
          "metadata": {
            "tags": [],
            "needs_background": "light"
          }
        }
      ]
    },
    {
      "cell_type": "markdown",
      "metadata": {
        "id": "VLNklvcJ7eQu"
      },
      "source": [
        "## Normalize and gather ranking variables"
      ]
    },
    {
      "cell_type": "code",
      "metadata": {
        "id": "-sTZTiY82dLu"
      },
      "source": [
        "#normalize this score which is at 100 to get better average values\n",
        "\n",
        "listings_NYC['review_scores_rating'] = listings_NYC['review_scores_rating']/10"
      ],
      "execution_count": null,
      "outputs": []
    },
    {
      "cell_type": "code",
      "metadata": {
        "id": "B31j1zhW2dLx"
      },
      "source": [
        "#gather the differnt rating columns in a list of columns\n",
        "\n",
        "ratings = listings_NYC.iloc[:,19:25]"
      ],
      "execution_count": null,
      "outputs": []
    },
    {
      "cell_type": "code",
      "metadata": {
        "id": "ge15y2xO2dL1",
        "outputId": "3f40537e-9f0f-4041-fcfb-d44fa42b53b4",
        "colab": {
          "base_uri": "https://localhost:8080/",
          "height": 119
        }
      },
      "source": [
        "list(ratings.columns)"
      ],
      "execution_count": null,
      "outputs": [
        {
          "output_type": "execute_result",
          "data": {
            "text/plain": [
              "['review_scores_checkin',\n",
              " 'review_scores_cleanliness',\n",
              " 'review_scores_communication',\n",
              " 'review_scores_location',\n",
              " 'review_scores_rating',\n",
              " 'review_scores_value']"
            ]
          },
          "metadata": {
            "tags": []
          },
          "execution_count": 10
        }
      ]
    },
    {
      "cell_type": "code",
      "metadata": {
        "id": "MTaRuFuz2dL4"
      },
      "source": [
        "#remove rows where ratings are null\n",
        "\n",
        "ratings_non_Na = ratings.dropna()"
      ],
      "execution_count": null,
      "outputs": []
    },
    {
      "cell_type": "code",
      "metadata": {
        "id": "giT9ZRnB2dL7",
        "outputId": "5a0151aa-a5fd-44b7-bd37-34761229feb2",
        "colab": {
          "base_uri": "https://localhost:8080/",
          "height": 419
        }
      },
      "source": [
        "ratings_non_Na"
      ],
      "execution_count": null,
      "outputs": [
        {
          "output_type": "execute_result",
          "data": {
            "text/html": [
              "<div>\n",
              "<style scoped>\n",
              "    .dataframe tbody tr th:only-of-type {\n",
              "        vertical-align: middle;\n",
              "    }\n",
              "\n",
              "    .dataframe tbody tr th {\n",
              "        vertical-align: top;\n",
              "    }\n",
              "\n",
              "    .dataframe thead th {\n",
              "        text-align: right;\n",
              "    }\n",
              "</style>\n",
              "<table border=\"1\" class=\"dataframe\">\n",
              "  <thead>\n",
              "    <tr style=\"text-align: right;\">\n",
              "      <th></th>\n",
              "      <th>review_scores_checkin</th>\n",
              "      <th>review_scores_cleanliness</th>\n",
              "      <th>review_scores_communication</th>\n",
              "      <th>review_scores_location</th>\n",
              "      <th>review_scores_rating</th>\n",
              "      <th>review_scores_value</th>\n",
              "    </tr>\n",
              "  </thead>\n",
              "  <tbody>\n",
              "    <tr>\n",
              "      <th>0</th>\n",
              "      <td>10.0</td>\n",
              "      <td>10.0</td>\n",
              "      <td>10.0</td>\n",
              "      <td>10.0</td>\n",
              "      <td>10.0</td>\n",
              "      <td>10.0</td>\n",
              "    </tr>\n",
              "    <tr>\n",
              "      <th>3</th>\n",
              "      <td>10.0</td>\n",
              "      <td>10.0</td>\n",
              "      <td>10.0</td>\n",
              "      <td>10.0</td>\n",
              "      <td>9.3</td>\n",
              "      <td>10.0</td>\n",
              "    </tr>\n",
              "    <tr>\n",
              "      <th>4</th>\n",
              "      <td>10.0</td>\n",
              "      <td>10.0</td>\n",
              "      <td>10.0</td>\n",
              "      <td>10.0</td>\n",
              "      <td>9.7</td>\n",
              "      <td>10.0</td>\n",
              "    </tr>\n",
              "    <tr>\n",
              "      <th>5</th>\n",
              "      <td>10.0</td>\n",
              "      <td>10.0</td>\n",
              "      <td>10.0</td>\n",
              "      <td>10.0</td>\n",
              "      <td>9.7</td>\n",
              "      <td>10.0</td>\n",
              "    </tr>\n",
              "    <tr>\n",
              "      <th>6</th>\n",
              "      <td>10.0</td>\n",
              "      <td>10.0</td>\n",
              "      <td>10.0</td>\n",
              "      <td>10.0</td>\n",
              "      <td>9.8</td>\n",
              "      <td>10.0</td>\n",
              "    </tr>\n",
              "    <tr>\n",
              "      <th>...</th>\n",
              "      <td>...</td>\n",
              "      <td>...</td>\n",
              "      <td>...</td>\n",
              "      <td>...</td>\n",
              "      <td>...</td>\n",
              "      <td>...</td>\n",
              "    </tr>\n",
              "    <tr>\n",
              "      <th>40727</th>\n",
              "      <td>10.0</td>\n",
              "      <td>9.0</td>\n",
              "      <td>10.0</td>\n",
              "      <td>9.0</td>\n",
              "      <td>9.8</td>\n",
              "      <td>10.0</td>\n",
              "    </tr>\n",
              "    <tr>\n",
              "      <th>40730</th>\n",
              "      <td>10.0</td>\n",
              "      <td>9.0</td>\n",
              "      <td>10.0</td>\n",
              "      <td>10.0</td>\n",
              "      <td>9.6</td>\n",
              "      <td>9.0</td>\n",
              "    </tr>\n",
              "    <tr>\n",
              "      <th>40731</th>\n",
              "      <td>10.0</td>\n",
              "      <td>10.0</td>\n",
              "      <td>10.0</td>\n",
              "      <td>10.0</td>\n",
              "      <td>9.6</td>\n",
              "      <td>10.0</td>\n",
              "    </tr>\n",
              "    <tr>\n",
              "      <th>40732</th>\n",
              "      <td>10.0</td>\n",
              "      <td>10.0</td>\n",
              "      <td>10.0</td>\n",
              "      <td>10.0</td>\n",
              "      <td>9.7</td>\n",
              "      <td>10.0</td>\n",
              "    </tr>\n",
              "    <tr>\n",
              "      <th>40736</th>\n",
              "      <td>10.0</td>\n",
              "      <td>10.0</td>\n",
              "      <td>10.0</td>\n",
              "      <td>10.0</td>\n",
              "      <td>10.0</td>\n",
              "      <td>10.0</td>\n",
              "    </tr>\n",
              "  </tbody>\n",
              "</table>\n",
              "<p>30674 rows × 6 columns</p>\n",
              "</div>"
            ],
            "text/plain": [
              "       review_scores_checkin  ...  review_scores_value\n",
              "0                       10.0  ...                 10.0\n",
              "3                       10.0  ...                 10.0\n",
              "4                       10.0  ...                 10.0\n",
              "5                       10.0  ...                 10.0\n",
              "6                       10.0  ...                 10.0\n",
              "...                      ...  ...                  ...\n",
              "40727                   10.0  ...                 10.0\n",
              "40730                   10.0  ...                  9.0\n",
              "40731                   10.0  ...                 10.0\n",
              "40732                   10.0  ...                 10.0\n",
              "40736                   10.0  ...                 10.0\n",
              "\n",
              "[30674 rows x 6 columns]"
            ]
          },
          "metadata": {
            "tags": []
          },
          "execution_count": 12
        }
      ]
    },
    {
      "cell_type": "code",
      "metadata": {
        "id": "IfrBV5xY2dL-",
        "outputId": "11085e2f-a124-4c9e-a753-bd85c966fd3f",
        "colab": {
          "base_uri": "https://localhost:8080/",
          "height": 221
        }
      },
      "source": [
        "# normalize the data of the six rating columns into one\n",
        "\n",
        "rating_avg = ratings_non_Na.sum(axis=1)/6\n",
        "rating_avg"
      ],
      "execution_count": null,
      "outputs": [
        {
          "output_type": "execute_result",
          "data": {
            "text/plain": [
              "0        10.000000\n",
              "3         9.883333\n",
              "4         9.950000\n",
              "5         9.950000\n",
              "6         9.966667\n",
              "           ...    \n",
              "40727     9.633333\n",
              "40730     9.600000\n",
              "40731     9.933333\n",
              "40732     9.950000\n",
              "40736    10.000000\n",
              "Length: 30674, dtype: float64"
            ]
          },
          "metadata": {
            "tags": []
          },
          "execution_count": 13
        }
      ]
    },
    {
      "cell_type": "code",
      "metadata": {
        "id": "nGbnBeYG2dMA",
        "outputId": "86dce624-de45-4748-d82d-8b5bf618e30b",
        "colab": {
          "base_uri": "https://localhost:8080/",
          "height": 34
        }
      },
      "source": [
        "#we add the normalized data column in the Data frame, remove the other ratings column and\n",
        "# update the dataframes for non-Na rows for ratings\n",
        "\n",
        "listings_NYC['Normalized rating']=pd.Series(rating_avg)\n",
        "listings_NYC= listings_NYC.drop(list(ratings),axis=1)\n",
        "listings_NYC = listings_NYC[listings_NYC['Normalized rating'].notna()]\n",
        "len(listings_NYC)"
      ],
      "execution_count": null,
      "outputs": [
        {
          "output_type": "execute_result",
          "data": {
            "text/plain": [
              "30674"
            ]
          },
          "metadata": {
            "tags": []
          },
          "execution_count": 14
        }
      ]
    },
    {
      "cell_type": "markdown",
      "metadata": {
        "id": "oL80RwGk70zO"
      },
      "source": [
        "## Checking for correlations"
      ]
    },
    {
      "cell_type": "code",
      "metadata": {
        "id": "sls2laRV2dMR",
        "outputId": "0e90c562-4a9b-4b7e-b343-be6afd14c142",
        "colab": {
          "base_uri": "https://localhost:8080/",
          "height": 255
        }
      },
      "source": [
        "corr_matrix = listings_NYC.corr()\n",
        "corr_matrix['price'].sort_values(ascending=False)"
      ],
      "execution_count": null,
      "outputs": [
        {
          "output_type": "execute_result",
          "data": {
            "text/plain": [
              "price                1.000000\n",
              "weekly_price         0.581100\n",
              "accommodates         0.386051\n",
              "beds                 0.310775\n",
              "bedrooms             0.306049\n",
              "bathrooms            0.262186\n",
              "availability_30      0.059499\n",
              "Normalized rating    0.035234\n",
              "latitude             0.033099\n",
              "host_id             -0.024197\n",
              "id                  -0.045292\n",
              "longitude           -0.171891\n",
              "has_availability          NaN\n",
              "Name: price, dtype: float64"
            ]
          },
          "metadata": {
            "tags": []
          },
          "execution_count": 17
        }
      ]
    },
    {
      "cell_type": "code",
      "metadata": {
        "id": "OvZcibZc2dMS",
        "outputId": "9f6ba879-2877-477a-9bde-a1efc2716bcf",
        "colab": {
          "base_uri": "https://localhost:8080/",
          "height": 513
        }
      },
      "source": [
        "from pandas.plotting import scatter_matrix\n",
        "\n",
        "attributes = ['price','accommodates', 'beds', 'bedrooms', 'bathrooms' ]\n",
        "scatter_matrix(listings_NYC[attributes], figsize=(12,8))\n",
        "plt.show()"
      ],
      "execution_count": null,
      "outputs": [
        {
          "output_type": "display_data",
          "data": {
            "image/png": "[encoded data removed]",
            "text/plain": [
              "<Figure size 864x576 with 25 Axes>"
            ]
          },
          "metadata": {
            "tags": [],
            "needs_background": "light"
          }
        }
      ]
    },
    {
      "cell_type": "markdown",
      "metadata": {
        "id": "ubAjPlbc763k"
      },
      "source": [
        "## Getting rid of Null values and dropping columns"
      ]
    },
    {
      "cell_type": "code",
      "metadata": {
        "id": "v66cKrOO2dMU",
        "outputId": "4ccddb70-0652-408c-a01e-4d155a9dbd7e",
        "colab": {
          "base_uri": "https://localhost:8080/",
          "height": 442
        }
      },
      "source": [
        "count = listings_NYC.isna().sum()\n",
        "count"
      ],
      "execution_count": null,
      "outputs": [
        {
          "output_type": "execute_result",
          "data": {
            "text/plain": [
              "accommodates               0\n",
              "amenities                  0\n",
              "availability_30            0\n",
              "bathrooms                129\n",
              "bed_type                   0\n",
              "bedrooms                  57\n",
              "beds                      38\n",
              "cancellation_policy        0\n",
              "city                      28\n",
              "has_availability       30674\n",
              "host_id                    0\n",
              "id                         0\n",
              "instant_bookable           0\n",
              "latitude                   0\n",
              "longitude                  0\n",
              "metropolitan               0\n",
              "name                      12\n",
              "price                      0\n",
              "property_type              0\n",
              "room_type                  0\n",
              "state                      0\n",
              "weekly_price           23030\n",
              "zipcode                  392\n",
              "Normalized rating          0\n",
              "dtype: int64"
            ]
          },
          "metadata": {
            "tags": []
          },
          "execution_count": 19
        }
      ]
    },
    {
      "cell_type": "code",
      "metadata": {
        "id": "diWky15I2dMV"
      },
      "source": [
        "# according to this, there is no point in keeping the 'has availability column' as well as the \n",
        "# 'weekly_price' one as we already have a 'price' variable as well\n",
        "# we also drop rows for which values for 'bedroom', 'beds' or 'bathrooms' is Na\n",
        "\n",
        "listings_NYC = listings_NYC.drop(['has_availability','weekly_price'],axis=1)"
      ],
      "execution_count": null,
      "outputs": []
    },
    {
      "cell_type": "code",
      "metadata": {
        "id": "R6e5pBmL2dMX",
        "outputId": "56689528-0053-432a-d624-df38a428c43d",
        "colab": {
          "base_uri": "https://localhost:8080/",
          "height": 119
        }
      },
      "source": [
        "listings_NYC.columns"
      ],
      "execution_count": null,
      "outputs": [
        {
          "output_type": "execute_result",
          "data": {
            "text/plain": [
              "Index(['accommodates', 'amenities', 'availability_30', 'bathrooms', 'bed_type',\n",
              "       'bedrooms', 'beds', 'cancellation_policy', 'city', 'host_id', 'id',\n",
              "       'instant_bookable', 'latitude', 'longitude', 'metropolitan', 'name',\n",
              "       'price', 'property_type', 'room_type', 'state', 'zipcode',\n",
              "       'Normalized rating'],\n",
              "      dtype='object')"
            ]
          },
          "metadata": {
            "tags": []
          },
          "execution_count": 21
        }
      ]
    },
    {
      "cell_type": "code",
      "metadata": {
        "id": "caINRg-X2dMY",
        "outputId": "1dec102a-06ac-474e-d81e-412f103f81e4",
        "colab": {
          "base_uri": "https://localhost:8080/",
          "height": 408
        }
      },
      "source": [
        "count_2 = listings_NYC.isna().sum()\n",
        "count_2"
      ],
      "execution_count": null,
      "outputs": [
        {
          "output_type": "execute_result",
          "data": {
            "text/plain": [
              "accommodates             0\n",
              "amenities                0\n",
              "availability_30          0\n",
              "bathrooms              129\n",
              "bed_type                 0\n",
              "bedrooms                57\n",
              "beds                    38\n",
              "cancellation_policy      0\n",
              "city                    28\n",
              "host_id                  0\n",
              "id                       0\n",
              "instant_bookable         0\n",
              "latitude                 0\n",
              "longitude                0\n",
              "metropolitan             0\n",
              "name                    12\n",
              "price                    0\n",
              "property_type            0\n",
              "room_type                0\n",
              "state                    0\n",
              "zipcode                392\n",
              "Normalized rating        0\n",
              "dtype: int64"
            ]
          },
          "metadata": {
            "tags": []
          },
          "execution_count": 22
        }
      ]
    },
    {
      "cell_type": "code",
      "metadata": {
        "id": "1lQJqO5r2dMa"
      },
      "source": [
        "listings_NYC = listings_NYC.dropna(subset=['beds','bathrooms','bedrooms'])"
      ],
      "execution_count": null,
      "outputs": []
    },
    {
      "cell_type": "code",
      "metadata": {
        "id": "tU-_jCx32dMb"
      },
      "source": [
        "listings_NYC = listings_NYC.dropna(subset=['zipcode'])\n",
        "listings_NYC = listings_NYC.drop(['name', 'amenities','city'],axis=1)"
      ],
      "execution_count": null,
      "outputs": []
    },
    {
      "cell_type": "code",
      "metadata": {
        "id": "lIN7d5cgEJDN"
      },
      "source": [
        "listings_NYC = listings_NYC.drop(['host_id','availability_30'],axis=1)"
      ],
      "execution_count": null,
      "outputs": []
    },
    {
      "cell_type": "code",
      "metadata": {
        "id": "sdF9fez52dMc",
        "outputId": "1b25150d-fb88-4c84-9a88-de60f33b3597",
        "colab": {
          "base_uri": "https://localhost:8080/",
          "height": 323
        }
      },
      "source": [
        "count_3 = listings_NYC.isna().sum()\n",
        "count_3"
      ],
      "execution_count": null,
      "outputs": [
        {
          "output_type": "execute_result",
          "data": {
            "text/plain": [
              "accommodates           0\n",
              "bathrooms              0\n",
              "bed_type               0\n",
              "bedrooms               0\n",
              "beds                   0\n",
              "cancellation_policy    0\n",
              "id                     0\n",
              "instant_bookable       0\n",
              "latitude               0\n",
              "longitude              0\n",
              "metropolitan           0\n",
              "price                  0\n",
              "property_type          0\n",
              "room_type              0\n",
              "state                  0\n",
              "zipcode                0\n",
              "Normalized rating      0\n",
              "dtype: int64"
            ]
          },
          "metadata": {
            "tags": []
          },
          "execution_count": 26
        }
      ]
    },
    {
      "cell_type": "code",
      "metadata": {
        "id": "KrqPTn6I2dMf",
        "outputId": "41b3a45f-5209-41c1-d75b-0c00cbf575e2",
        "colab": {
          "base_uri": "https://localhost:8080/",
          "height": 34
        }
      },
      "source": [
        "len(listings_NYC)"
      ],
      "execution_count": null,
      "outputs": [
        {
          "output_type": "execute_result",
          "data": {
            "text/plain": [
              "30089"
            ]
          },
          "metadata": {
            "tags": []
          },
          "execution_count": 27
        }
      ]
    },
    {
      "cell_type": "markdown",
      "metadata": {
        "id": "oyaYU4pHbC4O"
      },
      "source": [
        "## Removal of Outliers "
      ]
    },
    {
      "cell_type": "code",
      "metadata": {
        "id": "BTfALjUnbVE3"
      },
      "source": [
        "# Calculating the z score of every price data point, if the z score of the point\n",
        "# is more than 3, then it is quite far off from the mean and the rest of the data\n",
        "# will be removed from the dataset\n",
        "\n",
        "from scipy import stats\n",
        "\n",
        "z_scores = stats.zscore(listings_NYC['price'])\n",
        "\n",
        "abs_z_scores = np.abs(z_scores)\n",
        "filtered_entries = (abs_z_scores < 3)\n",
        "listings_NYC = listings_NYC[filtered_entries]"
      ],
      "execution_count": null,
      "outputs": []
    },
    {
      "cell_type": "code",
      "metadata": {
        "id": "6AP41B4njcMw",
        "outputId": "661ae906-8b50-4db1-a453-43ea99db6f2b",
        "colab": {
          "base_uri": "https://localhost:8080/",
          "height": 34
        }
      },
      "source": [
        "len(filtered_entries)"
      ],
      "execution_count": null,
      "outputs": [
        {
          "output_type": "execute_result",
          "data": {
            "text/plain": [
              "30089"
            ]
          },
          "metadata": {
            "tags": []
          },
          "execution_count": 29
        }
      ]
    },
    {
      "cell_type": "code",
      "metadata": {
        "id": "ZGHMaerVcdDd",
        "outputId": "0466d913-63bd-4fb8-969f-014eca1c2b42",
        "colab": {
          "base_uri": "https://localhost:8080/",
          "height": 291
        }
      },
      "source": [
        "ax1 = listings_NYC.plot.scatter(x='zipcode',y='price',c='DarkBlue')"
      ],
      "execution_count": null,
      "outputs": [
        {
          "output_type": "display_data",
          "data": {
            "image/png": "[encoded data removed]",
            "text/plain": [
              "<Figure size 432x288 with 1 Axes>"
            ]
          },
          "metadata": {
            "tags": [],
            "needs_background": "light"
          }
        }
      ]
    },
    {
      "cell_type": "markdown",
      "metadata": {
        "id": "dab7CsNGdKTW"
      },
      "source": [
        "## Zipcode preprocessing"
      ]
    },
    {
      "cell_type": "code",
      "metadata": {
        "id": "rv7MFFAhdPUn"
      },
      "source": [
        "# Removing all the rows with non standard zipcode (dash, alphanumeric)\n",
        "# or errors in formatting, and transform the zipcodes into a numerical \n",
        "# value that can be used to plot or used more easily"
      ],
      "execution_count": null,
      "outputs": []
    },
    {
      "cell_type": "code",
      "metadata": {
        "id": "M3ytcvbNdW8T"
      },
      "source": [
        "listings_NYC = listings_NYC[listings_NYC.zipcode != '11103-3233']"
      ],
      "execution_count": null,
      "outputs": []
    },
    {
      "cell_type": "code",
      "metadata": {
        "id": "jH2414QPfH0E"
      },
      "source": [
        "listings_NYC = listings_NYC[listings_NYC.zipcode != '10003-8623']"
      ],
      "execution_count": null,
      "outputs": []
    },
    {
      "cell_type": "code",
      "metadata": {
        "id": "S3WlO25XfJYS"
      },
      "source": [
        "listings_NYC = listings_NYC[listings_NYC.zipcode != '11385-2308']"
      ],
      "execution_count": null,
      "outputs": []
    },
    {
      "cell_type": "code",
      "metadata": {
        "id": "bpUtQKo9fLvV"
      },
      "source": [
        "listings_NYC = listings_NYC[listings_NYC.zipcode != '1m']"
      ],
      "execution_count": null,
      "outputs": []
    },
    {
      "cell_type": "code",
      "metadata": {
        "id": "RpuYKy3Nfqk0"
      },
      "source": [
        "listings_NYC.loc[(listings_NYC.zipcode == '11249\\n11249'),'zipcode']='11249'"
      ],
      "execution_count": null,
      "outputs": []
    },
    {
      "cell_type": "code",
      "metadata": {
        "id": "kqJbKrRnfhxh"
      },
      "source": [
        "listings_NYC['zipcode'] = listings_NYC['zipcode'].apply(pd.to_numeric)"
      ],
      "execution_count": null,
      "outputs": []
    },
    {
      "cell_type": "code",
      "metadata": {
        "id": "rtafVMUBd4Ok"
      },
      "source": [
        "# creating a list of the most recent real estate values for all of the zipcodes \n",
        "# in the listing dataframe"
      ],
      "execution_count": null,
      "outputs": []
    },
    {
      "cell_type": "code",
      "metadata": {
        "id": "C6pWVU-fftyW"
      },
      "source": [
        "list_zip = list(listings_NYC['zipcode'])"
      ],
      "execution_count": null,
      "outputs": []
    },
    {
      "cell_type": "code",
      "metadata": {
        "id": "zKzkFubEgAPq"
      },
      "source": [
        "final_zip_list = list(set(list_zip))"
      ],
      "execution_count": null,
      "outputs": []
    },
    {
      "cell_type": "code",
      "metadata": {
        "id": "iHEvhaeRhI4V"
      },
      "source": [
        "real_estate_NYC = real_estate[real_estate['city']=='New York']"
      ],
      "execution_count": null,
      "outputs": []
    },
    {
      "cell_type": "code",
      "metadata": {
        "id": "9daZChwjgMCq"
      },
      "source": [
        "zip_real_estate = real_estate_NYC[['type','zipcode','2017-06']].copy()"
      ],
      "execution_count": null,
      "outputs": []
    },
    {
      "cell_type": "code",
      "metadata": {
        "id": "dIrtwcPrgsvK"
      },
      "source": [
        "zip_real_estate['zipcode'] = zip_real_estate['zipcode'].apply(pd.to_numeric, errors = 'coerce')"
      ],
      "execution_count": null,
      "outputs": []
    },
    {
      "cell_type": "code",
      "metadata": {
        "id": "cN9S7mmbguXs"
      },
      "source": [
        "zip_real_estate = zip_real_estate[zip_real_estate['type'] != 'ZHVI']"
      ],
      "execution_count": null,
      "outputs": []
    },
    {
      "cell_type": "code",
      "metadata": {
        "id": "oI1SNbyvhU_x",
        "outputId": "c6fae3ff-aa56-4f1a-8600-c9eda2601f72",
        "colab": {
          "base_uri": "https://localhost:8080/",
          "height": 419
        }
      },
      "source": [
        "zip_real_estate"
      ],
      "execution_count": null,
      "outputs": [
        {
          "output_type": "execute_result",
          "data": {
            "text/html": [
              "<div>\n",
              "<style scoped>\n",
              "    .dataframe tbody tr th:only-of-type {\n",
              "        vertical-align: middle;\n",
              "    }\n",
              "\n",
              "    .dataframe tbody tr th {\n",
              "        vertical-align: top;\n",
              "    }\n",
              "\n",
              "    .dataframe thead th {\n",
              "        text-align: right;\n",
              "    }\n",
              "</style>\n",
              "<table border=\"1\" class=\"dataframe\">\n",
              "  <thead>\n",
              "    <tr style=\"text-align: right;\">\n",
              "      <th></th>\n",
              "      <th>type</th>\n",
              "      <th>zipcode</th>\n",
              "      <th>2017-06</th>\n",
              "    </tr>\n",
              "  </thead>\n",
              "  <tbody>\n",
              "    <tr>\n",
              "      <th>13200</th>\n",
              "      <td>ZRI</td>\n",
              "      <td>10025</td>\n",
              "      <td>3669</td>\n",
              "    </tr>\n",
              "    <tr>\n",
              "      <th>13202</th>\n",
              "      <td>ZRI</td>\n",
              "      <td>10023</td>\n",
              "      <td>3983</td>\n",
              "    </tr>\n",
              "    <tr>\n",
              "      <th>13205</th>\n",
              "      <td>ZRI</td>\n",
              "      <td>10002</td>\n",
              "      <td>3609</td>\n",
              "    </tr>\n",
              "    <tr>\n",
              "      <th>13207</th>\n",
              "      <td>ZRI</td>\n",
              "      <td>10467</td>\n",
              "      <td>1728</td>\n",
              "    </tr>\n",
              "    <tr>\n",
              "      <th>13211</th>\n",
              "      <td>ZRI</td>\n",
              "      <td>11226</td>\n",
              "      <td>2324</td>\n",
              "    </tr>\n",
              "    <tr>\n",
              "      <th>...</th>\n",
              "      <td>...</td>\n",
              "      <td>...</td>\n",
              "      <td>...</td>\n",
              "    </tr>\n",
              "    <tr>\n",
              "      <th>23669</th>\n",
              "      <td>ZRI</td>\n",
              "      <td>11363</td>\n",
              "      <td>2739</td>\n",
              "    </tr>\n",
              "    <tr>\n",
              "      <th>23952</th>\n",
              "      <td>ZRI</td>\n",
              "      <td>10006</td>\n",
              "      <td>3289</td>\n",
              "    </tr>\n",
              "    <tr>\n",
              "      <th>24257</th>\n",
              "      <td>ZRI</td>\n",
              "      <td>10004</td>\n",
              "      <td>4770</td>\n",
              "    </tr>\n",
              "    <tr>\n",
              "      <th>24892</th>\n",
              "      <td>ZRI</td>\n",
              "      <td>10464</td>\n",
              "      <td>1946</td>\n",
              "    </tr>\n",
              "    <tr>\n",
              "      <th>25197</th>\n",
              "      <td>ZRI</td>\n",
              "      <td>11005</td>\n",
              "      <td>2145</td>\n",
              "    </tr>\n",
              "  </tbody>\n",
              "</table>\n",
              "<p>160 rows × 3 columns</p>\n",
              "</div>"
            ],
            "text/plain": [
              "      type  zipcode  2017-06\n",
              "13200  ZRI    10025     3669\n",
              "13202  ZRI    10023     3983\n",
              "13205  ZRI    10002     3609\n",
              "13207  ZRI    10467     1728\n",
              "13211  ZRI    11226     2324\n",
              "...    ...      ...      ...\n",
              "23669  ZRI    11363     2739\n",
              "23952  ZRI    10006     3289\n",
              "24257  ZRI    10004     4770\n",
              "24892  ZRI    10464     1946\n",
              "25197  ZRI    11005     2145\n",
              "\n",
              "[160 rows x 3 columns]"
            ]
          },
          "metadata": {
            "tags": []
          },
          "execution_count": 45
        }
      ]
    },
    {
      "cell_type": "markdown",
      "metadata": {
        "id": "dK0eS-Y0hgYK"
      },
      "source": [
        "## Adding local real estate value to listings"
      ]
    },
    {
      "cell_type": "code",
      "metadata": {
        "id": "z8EniBYNeg5i"
      },
      "source": [
        "# Adding a real estate pricing for each listing depending on their \n",
        "# respective zipcode and dropping the listings with no real estate value"
      ],
      "execution_count": null,
      "outputs": []
    },
    {
      "cell_type": "code",
      "metadata": {
        "id": "vjUKpIwZhost",
        "outputId": "1c805988-8ba3-4a68-b97e-3cb0a70295e2",
        "colab": {
          "base_uri": "https://localhost:8080/",
          "height": 34
        }
      },
      "source": [
        "estate_zip = list(zip_real_estate['zipcode'])\n",
        "final_estate_zip = list(set(estate_zip))\n",
        "len(final_estate_zip)"
      ],
      "execution_count": null,
      "outputs": [
        {
          "output_type": "execute_result",
          "data": {
            "text/plain": [
              "160"
            ]
          },
          "metadata": {
            "tags": []
          },
          "execution_count": 47
        }
      ]
    },
    {
      "cell_type": "code",
      "metadata": {
        "id": "X8nApbyaiMs8"
      },
      "source": [
        "def findEstateVal(zip):\n",
        "    if zip in final_estate_zip:\n",
        "        val = zip_real_estate.loc[zip_real_estate['zipcode'] == zip]['2017-06'].item()\n",
        "    else:\n",
        "        val = np.nan\n",
        "    return val"
      ],
      "execution_count": null,
      "outputs": []
    },
    {
      "cell_type": "code",
      "metadata": {
        "id": "od28GIhTiURV"
      },
      "source": [
        "listings_NYC['realestate'] = listings_NYC['zipcode'].apply(lambda x: findEstateVal(x))"
      ],
      "execution_count": null,
      "outputs": []
    },
    {
      "cell_type": "code",
      "metadata": {
        "id": "5okFsNwujlLO"
      },
      "source": [
        "listings_NYC = listings_NYC.dropna(axis='rows')"
      ],
      "execution_count": null,
      "outputs": []
    },
    {
      "cell_type": "markdown",
      "metadata": {
        "id": "ajsZ7n75TR_z"
      },
      "source": [
        "## Venues Preprocessing"
      ]
    },
    {
      "cell_type": "code",
      "metadata": {
        "id": "YS_yVEqYkw9H"
      },
      "source": [
        "# Identifying every listed value in NYC with a rating and dropping\n",
        "# every other unnecessary collumns"
      ],
      "execution_count": null,
      "outputs": []
    },
    {
      "cell_type": "code",
      "metadata": {
        "id": "EVyArWfqTYk8"
      },
      "source": [
        "venues_NYC = venues[venues['city']=='new york city']"
      ],
      "execution_count": null,
      "outputs": []
    },
    {
      "cell_type": "code",
      "metadata": {
        "id": "nwPudwKOTrC5"
      },
      "source": [
        "venues_NYC = venues_NYC.drop(['city','id','name','types'],axis=1)"
      ],
      "execution_count": null,
      "outputs": []
    },
    {
      "cell_type": "code",
      "metadata": {
        "id": "cqQfaQeXTvt1"
      },
      "source": [
        "venues_NYC = venues_NYC.dropna()"
      ],
      "execution_count": null,
      "outputs": []
    },
    {
      "cell_type": "code",
      "metadata": {
        "id": "-Z5N5DCrTyDy"
      },
      "source": [
        "venues_NYC = venues_NYC.reset_index(drop=True)"
      ],
      "execution_count": null,
      "outputs": []
    },
    {
      "cell_type": "markdown",
      "metadata": {
        "id": "IXHMsgAbT7f2"
      },
      "source": [
        "##Adding venues rating \n"
      ]
    },
    {
      "cell_type": "code",
      "metadata": {
        "id": "fgEDBr3kU_Ow"
      },
      "source": [
        "#Adding the number of venues and average rating of the venus in a 1.1km radius \n",
        "#around the airbnb"
      ],
      "execution_count": null,
      "outputs": []
    },
    {
      "cell_type": "code",
      "metadata": {
        "id": "w7CkoiJqUAK4"
      },
      "source": [
        "def neighbourhood_num(lat, long):\n",
        "  distance = 0.01\n",
        "  venues_near = venues_NYC[((venues_NYC['latitude'] >= lat-distance)&(venues_NYC['latitude'] <=lat+distance))&((venues_NYC['longitude'] >=long-distance)&(venues_NYC['longitude']<=long+distance))]\n",
        "  num_venues = len(venues_near)\n",
        "  return num_venues"
      ],
      "execution_count": null,
      "outputs": []
    },
    {
      "cell_type": "code",
      "metadata": {
        "id": "y4TadrGyUAp4"
      },
      "source": [
        "def neighbourhood_rating(lat, long):\n",
        "  distance = 0.01\n",
        "  venues_near = venues_NYC[((venues_NYC['latitude'] >= lat-distance)&(venues_NYC['latitude'] <=lat+distance))&((venues_NYC['longitude'] >=long-distance)&(venues_NYC['longitude']<=long+distance))]\n",
        "  venues_rating = venues_near['rating'].mean()\n",
        "  return venues_rating"
      ],
      "execution_count": null,
      "outputs": []
    },
    {
      "cell_type": "code",
      "metadata": {
        "id": "8O9Lp4MKUC9f"
      },
      "source": [
        "listings_NYC['num_venues'] = listings_NYC.apply(lambda x: neighbourhood_num(x['latitude'], x['longitude']), axis=1)\n",
        "listings_NYC['venues_rating'] = listings_NYC.apply(lambda x: neighbourhood_rating(x['latitude'], x['longitude']), axis=1)"
      ],
      "execution_count": null,
      "outputs": []
    },
    {
      "cell_type": "code",
      "metadata": {
        "id": "HIR1OgWLUxic"
      },
      "source": [
        "listings_NYC = listings_NYC.dropna()"
      ],
      "execution_count": null,
      "outputs": []
    },
    {
      "cell_type": "markdown",
      "metadata": {
        "id": "_rTRFn_Z-oHq"
      },
      "source": [
        "## Feature Engineering\n"
      ]
    },
    {
      "cell_type": "code",
      "metadata": {
        "id": "bW9qhmyKEgek"
      },
      "source": [
        "## Instead of having two features for number of bedrooms and bathrooms, we regroup this into a rooms feature"
      ],
      "execution_count": null,
      "outputs": []
    },
    {
      "cell_type": "code",
      "metadata": {
        "id": "uVJkDlv5-7Xs"
      },
      "source": [
        "features_df = listings_NYC.copy(deep=True)"
      ],
      "execution_count": null,
      "outputs": []
    },
    {
      "cell_type": "code",
      "metadata": {
        "id": "TnDPNkjs_RFR",
        "outputId": "eefaee2e-71eb-4561-eac0-1ca04ac4532a",
        "colab": {
          "base_uri": "https://localhost:8080/",
          "height": 374
        }
      },
      "source": [
        "features_df.dtypes"
      ],
      "execution_count": null,
      "outputs": [
        {
          "output_type": "execute_result",
          "data": {
            "text/plain": [
              "accommodates           float64\n",
              "bathrooms              float64\n",
              "bed_type                object\n",
              "bedrooms               float64\n",
              "beds                   float64\n",
              "cancellation_policy     object\n",
              "id                       int64\n",
              "instant_bookable        object\n",
              "latitude               float64\n",
              "longitude              float64\n",
              "metropolitan            object\n",
              "price                  float64\n",
              "property_type           object\n",
              "room_type               object\n",
              "state                   object\n",
              "zipcode                float64\n",
              "Normalized rating      float64\n",
              "realestate             float64\n",
              "num_venues               int64\n",
              "venues_rating          float64\n",
              "dtype: object"
            ]
          },
          "metadata": {
            "tags": []
          },
          "execution_count": 63
        }
      ]
    },
    {
      "cell_type": "code",
      "metadata": {
        "id": "y2ePsW6__JDy"
      },
      "source": [
        "features_df['rooms'] = features_df['bedrooms'] + features_df['bathrooms']"
      ],
      "execution_count": null,
      "outputs": []
    },
    {
      "cell_type": "code",
      "metadata": {
        "id": "HwmtfYL5_ZfU",
        "outputId": "ca7b3e65-397e-4b35-bce7-00c066c0eb5c",
        "colab": {
          "base_uri": "https://localhost:8080/",
          "height": 626
        }
      },
      "source": [
        "features_df.drop(['bedrooms','bathrooms'],axis=1)"
      ],
      "execution_count": null,
      "outputs": [
        {
          "output_type": "execute_result",
          "data": {
            "text/html": [
              "<div>\n",
              "<style scoped>\n",
              "    .dataframe tbody tr th:only-of-type {\n",
              "        vertical-align: middle;\n",
              "    }\n",
              "\n",
              "    .dataframe tbody tr th {\n",
              "        vertical-align: top;\n",
              "    }\n",
              "\n",
              "    .dataframe thead th {\n",
              "        text-align: right;\n",
              "    }\n",
              "</style>\n",
              "<table border=\"1\" class=\"dataframe\">\n",
              "  <thead>\n",
              "    <tr style=\"text-align: right;\">\n",
              "      <th></th>\n",
              "      <th>accommodates</th>\n",
              "      <th>bed_type</th>\n",
              "      <th>beds</th>\n",
              "      <th>cancellation_policy</th>\n",
              "      <th>id</th>\n",
              "      <th>instant_bookable</th>\n",
              "      <th>latitude</th>\n",
              "      <th>longitude</th>\n",
              "      <th>metropolitan</th>\n",
              "      <th>price</th>\n",
              "      <th>property_type</th>\n",
              "      <th>room_type</th>\n",
              "      <th>state</th>\n",
              "      <th>zipcode</th>\n",
              "      <th>Normalized rating</th>\n",
              "      <th>realestate</th>\n",
              "      <th>num_venues</th>\n",
              "      <th>venues_rating</th>\n",
              "      <th>rooms</th>\n",
              "    </tr>\n",
              "  </thead>\n",
              "  <tbody>\n",
              "    <tr>\n",
              "      <th>0</th>\n",
              "      <td>2.0</td>\n",
              "      <td>Real Bed</td>\n",
              "      <td>1.0</td>\n",
              "      <td>moderate</td>\n",
              "      <td>7949480</td>\n",
              "      <td>f</td>\n",
              "      <td>40.852054</td>\n",
              "      <td>-73.788680</td>\n",
              "      <td>NYC</td>\n",
              "      <td>99.0</td>\n",
              "      <td>House</td>\n",
              "      <td>Private room</td>\n",
              "      <td>NY</td>\n",
              "      <td>10464.0</td>\n",
              "      <td>10.000000</td>\n",
              "      <td>1946.0</td>\n",
              "      <td>51</td>\n",
              "      <td>4.345098</td>\n",
              "      <td>2.0</td>\n",
              "    </tr>\n",
              "    <tr>\n",
              "      <th>3</th>\n",
              "      <td>3.0</td>\n",
              "      <td>Real Bed</td>\n",
              "      <td>1.0</td>\n",
              "      <td>strict</td>\n",
              "      <td>6627449</td>\n",
              "      <td>f</td>\n",
              "      <td>40.849775</td>\n",
              "      <td>-73.786609</td>\n",
              "      <td>NYC</td>\n",
              "      <td>125.0</td>\n",
              "      <td>Apartment</td>\n",
              "      <td>Entire home/apt</td>\n",
              "      <td>NY</td>\n",
              "      <td>10464.0</td>\n",
              "      <td>9.883333</td>\n",
              "      <td>1946.0</td>\n",
              "      <td>54</td>\n",
              "      <td>4.325926</td>\n",
              "      <td>2.0</td>\n",
              "    </tr>\n",
              "    <tr>\n",
              "      <th>4</th>\n",
              "      <td>4.0</td>\n",
              "      <td>Real Bed</td>\n",
              "      <td>1.0</td>\n",
              "      <td>moderate</td>\n",
              "      <td>5557381</td>\n",
              "      <td>t</td>\n",
              "      <td>40.850024</td>\n",
              "      <td>-73.789328</td>\n",
              "      <td>NYC</td>\n",
              "      <td>69.0</td>\n",
              "      <td>House</td>\n",
              "      <td>Private room</td>\n",
              "      <td>NY</td>\n",
              "      <td>10464.0</td>\n",
              "      <td>9.950000</td>\n",
              "      <td>1946.0</td>\n",
              "      <td>54</td>\n",
              "      <td>4.325926</td>\n",
              "      <td>2.0</td>\n",
              "    </tr>\n",
              "    <tr>\n",
              "      <th>5</th>\n",
              "      <td>2.0</td>\n",
              "      <td>Real Bed</td>\n",
              "      <td>1.0</td>\n",
              "      <td>moderate</td>\n",
              "      <td>9147025</td>\n",
              "      <td>f</td>\n",
              "      <td>40.844870</td>\n",
              "      <td>-73.789541</td>\n",
              "      <td>NYC</td>\n",
              "      <td>125.0</td>\n",
              "      <td>House</td>\n",
              "      <td>Entire home/apt</td>\n",
              "      <td>NY</td>\n",
              "      <td>10464.0</td>\n",
              "      <td>9.950000</td>\n",
              "      <td>1946.0</td>\n",
              "      <td>60</td>\n",
              "      <td>4.296667</td>\n",
              "      <td>1.0</td>\n",
              "    </tr>\n",
              "    <tr>\n",
              "      <th>6</th>\n",
              "      <td>4.0</td>\n",
              "      <td>Real Bed</td>\n",
              "      <td>2.0</td>\n",
              "      <td>flexible</td>\n",
              "      <td>11675715</td>\n",
              "      <td>t</td>\n",
              "      <td>40.851391</td>\n",
              "      <td>-73.784139</td>\n",
              "      <td>NYC</td>\n",
              "      <td>85.0</td>\n",
              "      <td>House</td>\n",
              "      <td>Entire home/apt</td>\n",
              "      <td>NY</td>\n",
              "      <td>10464.0</td>\n",
              "      <td>9.966667</td>\n",
              "      <td>1946.0</td>\n",
              "      <td>51</td>\n",
              "      <td>4.345098</td>\n",
              "      <td>2.0</td>\n",
              "    </tr>\n",
              "    <tr>\n",
              "      <th>...</th>\n",
              "      <td>...</td>\n",
              "      <td>...</td>\n",
              "      <td>...</td>\n",
              "      <td>...</td>\n",
              "      <td>...</td>\n",
              "      <td>...</td>\n",
              "      <td>...</td>\n",
              "      <td>...</td>\n",
              "      <td>...</td>\n",
              "      <td>...</td>\n",
              "      <td>...</td>\n",
              "      <td>...</td>\n",
              "      <td>...</td>\n",
              "      <td>...</td>\n",
              "      <td>...</td>\n",
              "      <td>...</td>\n",
              "      <td>...</td>\n",
              "      <td>...</td>\n",
              "      <td>...</td>\n",
              "    </tr>\n",
              "    <tr>\n",
              "      <th>40725</th>\n",
              "      <td>1.0</td>\n",
              "      <td>Real Bed</td>\n",
              "      <td>1.0</td>\n",
              "      <td>moderate</td>\n",
              "      <td>17957521</td>\n",
              "      <td>f</td>\n",
              "      <td>40.708237</td>\n",
              "      <td>-73.943789</td>\n",
              "      <td>NYC</td>\n",
              "      <td>59.0</td>\n",
              "      <td>Apartment</td>\n",
              "      <td>Private room</td>\n",
              "      <td>NY</td>\n",
              "      <td>11206.0</td>\n",
              "      <td>9.666667</td>\n",
              "      <td>2702.0</td>\n",
              "      <td>879</td>\n",
              "      <td>4.186007</td>\n",
              "      <td>2.0</td>\n",
              "    </tr>\n",
              "    <tr>\n",
              "      <th>40726</th>\n",
              "      <td>2.0</td>\n",
              "      <td>Real Bed</td>\n",
              "      <td>1.0</td>\n",
              "      <td>strict</td>\n",
              "      <td>14942680</td>\n",
              "      <td>f</td>\n",
              "      <td>40.708192</td>\n",
              "      <td>-73.949981</td>\n",
              "      <td>NYC</td>\n",
              "      <td>90.0</td>\n",
              "      <td>Apartment</td>\n",
              "      <td>Private room</td>\n",
              "      <td>NY</td>\n",
              "      <td>11206.0</td>\n",
              "      <td>9.000000</td>\n",
              "      <td>2702.0</td>\n",
              "      <td>1225</td>\n",
              "      <td>4.246857</td>\n",
              "      <td>2.0</td>\n",
              "    </tr>\n",
              "    <tr>\n",
              "      <th>40727</th>\n",
              "      <td>5.0</td>\n",
              "      <td>Real Bed</td>\n",
              "      <td>3.0</td>\n",
              "      <td>strict</td>\n",
              "      <td>7471933</td>\n",
              "      <td>f</td>\n",
              "      <td>40.704137</td>\n",
              "      <td>-73.934081</td>\n",
              "      <td>NYC</td>\n",
              "      <td>250.0</td>\n",
              "      <td>Loft</td>\n",
              "      <td>Entire home/apt</td>\n",
              "      <td>NY</td>\n",
              "      <td>11206.0</td>\n",
              "      <td>9.633333</td>\n",
              "      <td>2702.0</td>\n",
              "      <td>816</td>\n",
              "      <td>4.131618</td>\n",
              "      <td>4.0</td>\n",
              "    </tr>\n",
              "    <tr>\n",
              "      <th>40730</th>\n",
              "      <td>5.0</td>\n",
              "      <td>Real Bed</td>\n",
              "      <td>2.0</td>\n",
              "      <td>moderate</td>\n",
              "      <td>6684697</td>\n",
              "      <td>f</td>\n",
              "      <td>40.708768</td>\n",
              "      <td>-73.948891</td>\n",
              "      <td>NYC</td>\n",
              "      <td>125.0</td>\n",
              "      <td>Apartment</td>\n",
              "      <td>Entire home/apt</td>\n",
              "      <td>NY</td>\n",
              "      <td>11206.0</td>\n",
              "      <td>9.600000</td>\n",
              "      <td>2702.0</td>\n",
              "      <td>1157</td>\n",
              "      <td>4.229818</td>\n",
              "      <td>2.0</td>\n",
              "    </tr>\n",
              "    <tr>\n",
              "      <th>40731</th>\n",
              "      <td>1.0</td>\n",
              "      <td>Real Bed</td>\n",
              "      <td>1.0</td>\n",
              "      <td>moderate</td>\n",
              "      <td>1835049</td>\n",
              "      <td>f</td>\n",
              "      <td>40.706738</td>\n",
              "      <td>-73.943422</td>\n",
              "      <td>NYC</td>\n",
              "      <td>59.0</td>\n",
              "      <td>Apartment</td>\n",
              "      <td>Private room</td>\n",
              "      <td>NY</td>\n",
              "      <td>11206.0</td>\n",
              "      <td>9.933333</td>\n",
              "      <td>2702.0</td>\n",
              "      <td>880</td>\n",
              "      <td>4.150341</td>\n",
              "      <td>5.5</td>\n",
              "    </tr>\n",
              "  </tbody>\n",
              "</table>\n",
              "<p>28061 rows × 19 columns</p>\n",
              "</div>"
            ],
            "text/plain": [
              "       accommodates  bed_type  beds  ... num_venues  venues_rating rooms\n",
              "0               2.0  Real Bed   1.0  ...         51       4.345098   2.0\n",
              "3               3.0  Real Bed   1.0  ...         54       4.325926   2.0\n",
              "4               4.0  Real Bed   1.0  ...         54       4.325926   2.0\n",
              "5               2.0  Real Bed   1.0  ...         60       4.296667   1.0\n",
              "6               4.0  Real Bed   2.0  ...         51       4.345098   2.0\n",
              "...             ...       ...   ...  ...        ...            ...   ...\n",
              "40725           1.0  Real Bed   1.0  ...        879       4.186007   2.0\n",
              "40726           2.0  Real Bed   1.0  ...       1225       4.246857   2.0\n",
              "40727           5.0  Real Bed   3.0  ...        816       4.131618   4.0\n",
              "40730           5.0  Real Bed   2.0  ...       1157       4.229818   2.0\n",
              "40731           1.0  Real Bed   1.0  ...        880       4.150341   5.5\n",
              "\n",
              "[28061 rows x 19 columns]"
            ]
          },
          "metadata": {
            "tags": []
          },
          "execution_count": 65
        }
      ]
    },
    {
      "cell_type": "markdown",
      "metadata": {
        "id": "ln3JFU698H0v"
      },
      "source": [
        "## Transform categorical values with OHE\n",
        "\n"
      ]
    },
    {
      "cell_type": "code",
      "metadata": {
        "id": "VTCIF1a62dMh"
      },
      "source": [
        "# to use the non-numerical data, we need to encode it without giving the different attributes different weights\n",
        "# For that reason, we use OneHotEncoding instead of LabelEncoder or OrdinalEncode"
      ],
      "execution_count": null,
      "outputs": []
    },
    {
      "cell_type": "code",
      "metadata": {
        "id": "f-0glsfK2dMi",
        "outputId": "56c645af-c6bc-4ac5-a814-0c59dff3e0e0",
        "colab": {
          "base_uri": "https://localhost:8080/",
          "height": 153
        }
      },
      "source": [
        "from sklearn.preprocessing import OneHotEncoder\n",
        "ohc = OneHotEncoder()\n",
        "\n",
        "cat = ['room_type','bed_type', 'property_type', 'cancellation_policy','instant_bookable']\n",
        "feature_cols = ohc.fit_transform(listings_NYC[cat].values.reshape(-1,1))\n",
        "feature_labels = ohc.categories_[0]\n",
        "feature_labels"
      ],
      "execution_count": null,
      "outputs": [
        {
          "output_type": "execute_result",
          "data": {
            "text/plain": [
              "array(['Airbed', 'Apartment', 'Bed & Breakfast', 'Boat', 'Boutique hotel',\n",
              "       'Bungalow', 'Cabin', 'Castle', 'Cave', 'Chalet', 'Condominium',\n",
              "       'Couch', 'Dorm', 'Earth House', 'Entire home/apt', 'Futon',\n",
              "       'Guest suite', 'Guesthouse', 'Hostel', 'House', 'Hut', 'In-law',\n",
              "       'Lighthouse', 'Loft', 'Other', 'Private room', 'Pull-out Sofa',\n",
              "       'Real Bed', 'Serviced apartment', 'Shared room', 'Timeshare',\n",
              "       'Townhouse', 'Vacation home', 'Villa', 'f', 'flexible', 'moderate',\n",
              "       'no_refunds', 'strict', 'super_strict_30', 't'], dtype=object)"
            ]
          },
          "metadata": {
            "tags": []
          },
          "execution_count": 67
        }
      ]
    },
    {
      "cell_type": "code",
      "metadata": {
        "id": "lgFCwUXHWScE"
      },
      "source": [
        "feature_arr = ohc.fit_transform(listings_NYC[cat])"
      ],
      "execution_count": null,
      "outputs": []
    },
    {
      "cell_type": "code",
      "metadata": {
        "id": "R38hBGRoVkrv",
        "outputId": "21349500-57ad-4099-a8a1-ad3d2aba84c3",
        "colab": {
          "base_uri": "https://localhost:8080/",
          "height": 34
        }
      },
      "source": [
        "len(feature_labels)"
      ],
      "execution_count": null,
      "outputs": [
        {
          "output_type": "execute_result",
          "data": {
            "text/plain": [
              "41"
            ]
          },
          "metadata": {
            "tags": []
          },
          "execution_count": 69
        }
      ]
    },
    {
      "cell_type": "code",
      "metadata": {
        "id": "vFJG6nBkpy5-"
      },
      "source": [
        "fts_arr = feature_arr.toarray()"
      ],
      "execution_count": null,
      "outputs": []
    },
    {
      "cell_type": "code",
      "metadata": {
        "id": "4RxRqt83Vgim",
        "outputId": "f1c9fdbe-30fd-4cf5-ded6-1d88a567a630",
        "colab": {
          "base_uri": "https://localhost:8080/",
          "height": 34
        }
      },
      "source": [
        "fts_arr.shape"
      ],
      "execution_count": null,
      "outputs": [
        {
          "output_type": "execute_result",
          "data": {
            "text/plain": [
              "(28061, 41)"
            ]
          },
          "metadata": {
            "tags": []
          },
          "execution_count": 71
        }
      ]
    },
    {
      "cell_type": "code",
      "metadata": {
        "id": "Ry1_7RjwRAWM"
      },
      "source": [
        "cat_df = pd.DataFrame(data=fts_arr, columns=feature_labels)"
      ],
      "execution_count": null,
      "outputs": []
    },
    {
      "cell_type": "code",
      "metadata": {
        "id": "9X73bHkOWhiF",
        "outputId": "1d13160c-2e74-49de-a3d2-6bd864c964e9",
        "colab": {
          "base_uri": "https://localhost:8080/",
          "height": 473
        }
      },
      "source": [
        "cat_df\n"
      ],
      "execution_count": null,
      "outputs": [
        {
          "output_type": "execute_result",
          "data": {
            "text/html": [
              "<div>\n",
              "<style scoped>\n",
              "    .dataframe tbody tr th:only-of-type {\n",
              "        vertical-align: middle;\n",
              "    }\n",
              "\n",
              "    .dataframe tbody tr th {\n",
              "        vertical-align: top;\n",
              "    }\n",
              "\n",
              "    .dataframe thead th {\n",
              "        text-align: right;\n",
              "    }\n",
              "</style>\n",
              "<table border=\"1\" class=\"dataframe\">\n",
              "  <thead>\n",
              "    <tr style=\"text-align: right;\">\n",
              "      <th></th>\n",
              "      <th>Airbed</th>\n",
              "      <th>Apartment</th>\n",
              "      <th>Bed &amp; Breakfast</th>\n",
              "      <th>Boat</th>\n",
              "      <th>Boutique hotel</th>\n",
              "      <th>Bungalow</th>\n",
              "      <th>Cabin</th>\n",
              "      <th>Castle</th>\n",
              "      <th>Cave</th>\n",
              "      <th>Chalet</th>\n",
              "      <th>Condominium</th>\n",
              "      <th>Couch</th>\n",
              "      <th>Dorm</th>\n",
              "      <th>Earth House</th>\n",
              "      <th>Entire home/apt</th>\n",
              "      <th>Futon</th>\n",
              "      <th>Guest suite</th>\n",
              "      <th>Guesthouse</th>\n",
              "      <th>Hostel</th>\n",
              "      <th>House</th>\n",
              "      <th>Hut</th>\n",
              "      <th>In-law</th>\n",
              "      <th>Lighthouse</th>\n",
              "      <th>Loft</th>\n",
              "      <th>Other</th>\n",
              "      <th>Private room</th>\n",
              "      <th>Pull-out Sofa</th>\n",
              "      <th>Real Bed</th>\n",
              "      <th>Serviced apartment</th>\n",
              "      <th>Shared room</th>\n",
              "      <th>Timeshare</th>\n",
              "      <th>Townhouse</th>\n",
              "      <th>Vacation home</th>\n",
              "      <th>Villa</th>\n",
              "      <th>f</th>\n",
              "      <th>flexible</th>\n",
              "      <th>moderate</th>\n",
              "      <th>no_refunds</th>\n",
              "      <th>strict</th>\n",
              "      <th>super_strict_30</th>\n",
              "      <th>t</th>\n",
              "    </tr>\n",
              "  </thead>\n",
              "  <tbody>\n",
              "    <tr>\n",
              "      <th>0</th>\n",
              "      <td>0.0</td>\n",
              "      <td>1.0</td>\n",
              "      <td>0.0</td>\n",
              "      <td>0.0</td>\n",
              "      <td>0.0</td>\n",
              "      <td>0.0</td>\n",
              "      <td>0.0</td>\n",
              "      <td>1.0</td>\n",
              "      <td>0.0</td>\n",
              "      <td>0.0</td>\n",
              "      <td>0.0</td>\n",
              "      <td>0.0</td>\n",
              "      <td>0.0</td>\n",
              "      <td>0.0</td>\n",
              "      <td>0.0</td>\n",
              "      <td>0.0</td>\n",
              "      <td>0.0</td>\n",
              "      <td>0.0</td>\n",
              "      <td>0.0</td>\n",
              "      <td>0.0</td>\n",
              "      <td>0.0</td>\n",
              "      <td>0.0</td>\n",
              "      <td>0.0</td>\n",
              "      <td>1.0</td>\n",
              "      <td>0.0</td>\n",
              "      <td>0.0</td>\n",
              "      <td>0.0</td>\n",
              "      <td>0.0</td>\n",
              "      <td>0.0</td>\n",
              "      <td>0.0</td>\n",
              "      <td>0.0</td>\n",
              "      <td>0.0</td>\n",
              "      <td>0.0</td>\n",
              "      <td>0.0</td>\n",
              "      <td>0.0</td>\n",
              "      <td>1.0</td>\n",
              "      <td>0.0</td>\n",
              "      <td>0.0</td>\n",
              "      <td>0.0</td>\n",
              "      <td>1.0</td>\n",
              "      <td>0.0</td>\n",
              "    </tr>\n",
              "    <tr>\n",
              "      <th>1</th>\n",
              "      <td>1.0</td>\n",
              "      <td>0.0</td>\n",
              "      <td>0.0</td>\n",
              "      <td>0.0</td>\n",
              "      <td>0.0</td>\n",
              "      <td>0.0</td>\n",
              "      <td>0.0</td>\n",
              "      <td>1.0</td>\n",
              "      <td>1.0</td>\n",
              "      <td>0.0</td>\n",
              "      <td>0.0</td>\n",
              "      <td>0.0</td>\n",
              "      <td>0.0</td>\n",
              "      <td>0.0</td>\n",
              "      <td>0.0</td>\n",
              "      <td>0.0</td>\n",
              "      <td>0.0</td>\n",
              "      <td>0.0</td>\n",
              "      <td>0.0</td>\n",
              "      <td>0.0</td>\n",
              "      <td>0.0</td>\n",
              "      <td>0.0</td>\n",
              "      <td>0.0</td>\n",
              "      <td>0.0</td>\n",
              "      <td>0.0</td>\n",
              "      <td>0.0</td>\n",
              "      <td>0.0</td>\n",
              "      <td>0.0</td>\n",
              "      <td>0.0</td>\n",
              "      <td>0.0</td>\n",
              "      <td>0.0</td>\n",
              "      <td>0.0</td>\n",
              "      <td>0.0</td>\n",
              "      <td>0.0</td>\n",
              "      <td>0.0</td>\n",
              "      <td>0.0</td>\n",
              "      <td>0.0</td>\n",
              "      <td>1.0</td>\n",
              "      <td>0.0</td>\n",
              "      <td>1.0</td>\n",
              "      <td>0.0</td>\n",
              "    </tr>\n",
              "    <tr>\n",
              "      <th>2</th>\n",
              "      <td>0.0</td>\n",
              "      <td>1.0</td>\n",
              "      <td>0.0</td>\n",
              "      <td>0.0</td>\n",
              "      <td>0.0</td>\n",
              "      <td>0.0</td>\n",
              "      <td>0.0</td>\n",
              "      <td>1.0</td>\n",
              "      <td>0.0</td>\n",
              "      <td>0.0</td>\n",
              "      <td>0.0</td>\n",
              "      <td>0.0</td>\n",
              "      <td>0.0</td>\n",
              "      <td>0.0</td>\n",
              "      <td>0.0</td>\n",
              "      <td>0.0</td>\n",
              "      <td>0.0</td>\n",
              "      <td>0.0</td>\n",
              "      <td>0.0</td>\n",
              "      <td>0.0</td>\n",
              "      <td>0.0</td>\n",
              "      <td>0.0</td>\n",
              "      <td>0.0</td>\n",
              "      <td>1.0</td>\n",
              "      <td>0.0</td>\n",
              "      <td>0.0</td>\n",
              "      <td>0.0</td>\n",
              "      <td>0.0</td>\n",
              "      <td>0.0</td>\n",
              "      <td>0.0</td>\n",
              "      <td>0.0</td>\n",
              "      <td>0.0</td>\n",
              "      <td>0.0</td>\n",
              "      <td>0.0</td>\n",
              "      <td>0.0</td>\n",
              "      <td>1.0</td>\n",
              "      <td>0.0</td>\n",
              "      <td>0.0</td>\n",
              "      <td>0.0</td>\n",
              "      <td>0.0</td>\n",
              "      <td>1.0</td>\n",
              "    </tr>\n",
              "    <tr>\n",
              "      <th>3</th>\n",
              "      <td>1.0</td>\n",
              "      <td>0.0</td>\n",
              "      <td>0.0</td>\n",
              "      <td>0.0</td>\n",
              "      <td>0.0</td>\n",
              "      <td>0.0</td>\n",
              "      <td>0.0</td>\n",
              "      <td>1.0</td>\n",
              "      <td>0.0</td>\n",
              "      <td>0.0</td>\n",
              "      <td>0.0</td>\n",
              "      <td>0.0</td>\n",
              "      <td>0.0</td>\n",
              "      <td>0.0</td>\n",
              "      <td>0.0</td>\n",
              "      <td>0.0</td>\n",
              "      <td>0.0</td>\n",
              "      <td>0.0</td>\n",
              "      <td>0.0</td>\n",
              "      <td>0.0</td>\n",
              "      <td>0.0</td>\n",
              "      <td>0.0</td>\n",
              "      <td>0.0</td>\n",
              "      <td>1.0</td>\n",
              "      <td>0.0</td>\n",
              "      <td>0.0</td>\n",
              "      <td>0.0</td>\n",
              "      <td>0.0</td>\n",
              "      <td>0.0</td>\n",
              "      <td>0.0</td>\n",
              "      <td>0.0</td>\n",
              "      <td>0.0</td>\n",
              "      <td>0.0</td>\n",
              "      <td>0.0</td>\n",
              "      <td>0.0</td>\n",
              "      <td>1.0</td>\n",
              "      <td>0.0</td>\n",
              "      <td>0.0</td>\n",
              "      <td>0.0</td>\n",
              "      <td>1.0</td>\n",
              "      <td>0.0</td>\n",
              "    </tr>\n",
              "    <tr>\n",
              "      <th>4</th>\n",
              "      <td>1.0</td>\n",
              "      <td>0.0</td>\n",
              "      <td>0.0</td>\n",
              "      <td>0.0</td>\n",
              "      <td>0.0</td>\n",
              "      <td>0.0</td>\n",
              "      <td>0.0</td>\n",
              "      <td>1.0</td>\n",
              "      <td>0.0</td>\n",
              "      <td>0.0</td>\n",
              "      <td>0.0</td>\n",
              "      <td>0.0</td>\n",
              "      <td>0.0</td>\n",
              "      <td>0.0</td>\n",
              "      <td>0.0</td>\n",
              "      <td>0.0</td>\n",
              "      <td>0.0</td>\n",
              "      <td>0.0</td>\n",
              "      <td>0.0</td>\n",
              "      <td>0.0</td>\n",
              "      <td>0.0</td>\n",
              "      <td>0.0</td>\n",
              "      <td>0.0</td>\n",
              "      <td>1.0</td>\n",
              "      <td>0.0</td>\n",
              "      <td>0.0</td>\n",
              "      <td>0.0</td>\n",
              "      <td>0.0</td>\n",
              "      <td>0.0</td>\n",
              "      <td>0.0</td>\n",
              "      <td>0.0</td>\n",
              "      <td>0.0</td>\n",
              "      <td>0.0</td>\n",
              "      <td>0.0</td>\n",
              "      <td>1.0</td>\n",
              "      <td>0.0</td>\n",
              "      <td>0.0</td>\n",
              "      <td>0.0</td>\n",
              "      <td>0.0</td>\n",
              "      <td>0.0</td>\n",
              "      <td>1.0</td>\n",
              "    </tr>\n",
              "    <tr>\n",
              "      <th>...</th>\n",
              "      <td>...</td>\n",
              "      <td>...</td>\n",
              "      <td>...</td>\n",
              "      <td>...</td>\n",
              "      <td>...</td>\n",
              "      <td>...</td>\n",
              "      <td>...</td>\n",
              "      <td>...</td>\n",
              "      <td>...</td>\n",
              "      <td>...</td>\n",
              "      <td>...</td>\n",
              "      <td>...</td>\n",
              "      <td>...</td>\n",
              "      <td>...</td>\n",
              "      <td>...</td>\n",
              "      <td>...</td>\n",
              "      <td>...</td>\n",
              "      <td>...</td>\n",
              "      <td>...</td>\n",
              "      <td>...</td>\n",
              "      <td>...</td>\n",
              "      <td>...</td>\n",
              "      <td>...</td>\n",
              "      <td>...</td>\n",
              "      <td>...</td>\n",
              "      <td>...</td>\n",
              "      <td>...</td>\n",
              "      <td>...</td>\n",
              "      <td>...</td>\n",
              "      <td>...</td>\n",
              "      <td>...</td>\n",
              "      <td>...</td>\n",
              "      <td>...</td>\n",
              "      <td>...</td>\n",
              "      <td>...</td>\n",
              "      <td>...</td>\n",
              "      <td>...</td>\n",
              "      <td>...</td>\n",
              "      <td>...</td>\n",
              "      <td>...</td>\n",
              "      <td>...</td>\n",
              "    </tr>\n",
              "    <tr>\n",
              "      <th>28056</th>\n",
              "      <td>0.0</td>\n",
              "      <td>1.0</td>\n",
              "      <td>0.0</td>\n",
              "      <td>0.0</td>\n",
              "      <td>0.0</td>\n",
              "      <td>0.0</td>\n",
              "      <td>0.0</td>\n",
              "      <td>1.0</td>\n",
              "      <td>1.0</td>\n",
              "      <td>0.0</td>\n",
              "      <td>0.0</td>\n",
              "      <td>0.0</td>\n",
              "      <td>0.0</td>\n",
              "      <td>0.0</td>\n",
              "      <td>0.0</td>\n",
              "      <td>0.0</td>\n",
              "      <td>0.0</td>\n",
              "      <td>0.0</td>\n",
              "      <td>0.0</td>\n",
              "      <td>0.0</td>\n",
              "      <td>0.0</td>\n",
              "      <td>0.0</td>\n",
              "      <td>0.0</td>\n",
              "      <td>0.0</td>\n",
              "      <td>0.0</td>\n",
              "      <td>0.0</td>\n",
              "      <td>0.0</td>\n",
              "      <td>0.0</td>\n",
              "      <td>0.0</td>\n",
              "      <td>0.0</td>\n",
              "      <td>0.0</td>\n",
              "      <td>0.0</td>\n",
              "      <td>0.0</td>\n",
              "      <td>0.0</td>\n",
              "      <td>0.0</td>\n",
              "      <td>1.0</td>\n",
              "      <td>0.0</td>\n",
              "      <td>0.0</td>\n",
              "      <td>0.0</td>\n",
              "      <td>1.0</td>\n",
              "      <td>0.0</td>\n",
              "    </tr>\n",
              "    <tr>\n",
              "      <th>28057</th>\n",
              "      <td>0.0</td>\n",
              "      <td>1.0</td>\n",
              "      <td>0.0</td>\n",
              "      <td>0.0</td>\n",
              "      <td>0.0</td>\n",
              "      <td>0.0</td>\n",
              "      <td>0.0</td>\n",
              "      <td>1.0</td>\n",
              "      <td>1.0</td>\n",
              "      <td>0.0</td>\n",
              "      <td>0.0</td>\n",
              "      <td>0.0</td>\n",
              "      <td>0.0</td>\n",
              "      <td>0.0</td>\n",
              "      <td>0.0</td>\n",
              "      <td>0.0</td>\n",
              "      <td>0.0</td>\n",
              "      <td>0.0</td>\n",
              "      <td>0.0</td>\n",
              "      <td>0.0</td>\n",
              "      <td>0.0</td>\n",
              "      <td>0.0</td>\n",
              "      <td>0.0</td>\n",
              "      <td>0.0</td>\n",
              "      <td>0.0</td>\n",
              "      <td>0.0</td>\n",
              "      <td>0.0</td>\n",
              "      <td>0.0</td>\n",
              "      <td>0.0</td>\n",
              "      <td>0.0</td>\n",
              "      <td>0.0</td>\n",
              "      <td>0.0</td>\n",
              "      <td>0.0</td>\n",
              "      <td>0.0</td>\n",
              "      <td>0.0</td>\n",
              "      <td>0.0</td>\n",
              "      <td>0.0</td>\n",
              "      <td>1.0</td>\n",
              "      <td>0.0</td>\n",
              "      <td>1.0</td>\n",
              "      <td>0.0</td>\n",
              "    </tr>\n",
              "    <tr>\n",
              "      <th>28058</th>\n",
              "      <td>1.0</td>\n",
              "      <td>0.0</td>\n",
              "      <td>0.0</td>\n",
              "      <td>0.0</td>\n",
              "      <td>0.0</td>\n",
              "      <td>0.0</td>\n",
              "      <td>0.0</td>\n",
              "      <td>1.0</td>\n",
              "      <td>0.0</td>\n",
              "      <td>0.0</td>\n",
              "      <td>0.0</td>\n",
              "      <td>0.0</td>\n",
              "      <td>0.0</td>\n",
              "      <td>0.0</td>\n",
              "      <td>0.0</td>\n",
              "      <td>0.0</td>\n",
              "      <td>0.0</td>\n",
              "      <td>0.0</td>\n",
              "      <td>0.0</td>\n",
              "      <td>0.0</td>\n",
              "      <td>0.0</td>\n",
              "      <td>0.0</td>\n",
              "      <td>0.0</td>\n",
              "      <td>0.0</td>\n",
              "      <td>0.0</td>\n",
              "      <td>0.0</td>\n",
              "      <td>0.0</td>\n",
              "      <td>1.0</td>\n",
              "      <td>0.0</td>\n",
              "      <td>0.0</td>\n",
              "      <td>0.0</td>\n",
              "      <td>0.0</td>\n",
              "      <td>0.0</td>\n",
              "      <td>0.0</td>\n",
              "      <td>0.0</td>\n",
              "      <td>0.0</td>\n",
              "      <td>0.0</td>\n",
              "      <td>1.0</td>\n",
              "      <td>0.0</td>\n",
              "      <td>1.0</td>\n",
              "      <td>0.0</td>\n",
              "    </tr>\n",
              "    <tr>\n",
              "      <th>28059</th>\n",
              "      <td>1.0</td>\n",
              "      <td>0.0</td>\n",
              "      <td>0.0</td>\n",
              "      <td>0.0</td>\n",
              "      <td>0.0</td>\n",
              "      <td>0.0</td>\n",
              "      <td>0.0</td>\n",
              "      <td>1.0</td>\n",
              "      <td>1.0</td>\n",
              "      <td>0.0</td>\n",
              "      <td>0.0</td>\n",
              "      <td>0.0</td>\n",
              "      <td>0.0</td>\n",
              "      <td>0.0</td>\n",
              "      <td>0.0</td>\n",
              "      <td>0.0</td>\n",
              "      <td>0.0</td>\n",
              "      <td>0.0</td>\n",
              "      <td>0.0</td>\n",
              "      <td>0.0</td>\n",
              "      <td>0.0</td>\n",
              "      <td>0.0</td>\n",
              "      <td>0.0</td>\n",
              "      <td>0.0</td>\n",
              "      <td>0.0</td>\n",
              "      <td>0.0</td>\n",
              "      <td>0.0</td>\n",
              "      <td>0.0</td>\n",
              "      <td>0.0</td>\n",
              "      <td>0.0</td>\n",
              "      <td>0.0</td>\n",
              "      <td>0.0</td>\n",
              "      <td>0.0</td>\n",
              "      <td>0.0</td>\n",
              "      <td>0.0</td>\n",
              "      <td>1.0</td>\n",
              "      <td>0.0</td>\n",
              "      <td>0.0</td>\n",
              "      <td>0.0</td>\n",
              "      <td>1.0</td>\n",
              "      <td>0.0</td>\n",
              "    </tr>\n",
              "    <tr>\n",
              "      <th>28060</th>\n",
              "      <td>0.0</td>\n",
              "      <td>1.0</td>\n",
              "      <td>0.0</td>\n",
              "      <td>0.0</td>\n",
              "      <td>0.0</td>\n",
              "      <td>0.0</td>\n",
              "      <td>0.0</td>\n",
              "      <td>1.0</td>\n",
              "      <td>1.0</td>\n",
              "      <td>0.0</td>\n",
              "      <td>0.0</td>\n",
              "      <td>0.0</td>\n",
              "      <td>0.0</td>\n",
              "      <td>0.0</td>\n",
              "      <td>0.0</td>\n",
              "      <td>0.0</td>\n",
              "      <td>0.0</td>\n",
              "      <td>0.0</td>\n",
              "      <td>0.0</td>\n",
              "      <td>0.0</td>\n",
              "      <td>0.0</td>\n",
              "      <td>0.0</td>\n",
              "      <td>0.0</td>\n",
              "      <td>0.0</td>\n",
              "      <td>0.0</td>\n",
              "      <td>0.0</td>\n",
              "      <td>0.0</td>\n",
              "      <td>0.0</td>\n",
              "      <td>0.0</td>\n",
              "      <td>0.0</td>\n",
              "      <td>0.0</td>\n",
              "      <td>0.0</td>\n",
              "      <td>0.0</td>\n",
              "      <td>0.0</td>\n",
              "      <td>0.0</td>\n",
              "      <td>1.0</td>\n",
              "      <td>0.0</td>\n",
              "      <td>0.0</td>\n",
              "      <td>0.0</td>\n",
              "      <td>1.0</td>\n",
              "      <td>0.0</td>\n",
              "    </tr>\n",
              "  </tbody>\n",
              "</table>\n",
              "<p>28061 rows × 41 columns</p>\n",
              "</div>"
            ],
            "text/plain": [
              "       Airbed  Apartment  Bed & Breakfast  ...  strict  super_strict_30    t\n",
              "0         0.0        1.0              0.0  ...     0.0              1.0  0.0\n",
              "1         1.0        0.0              0.0  ...     0.0              1.0  0.0\n",
              "2         0.0        1.0              0.0  ...     0.0              0.0  1.0\n",
              "3         1.0        0.0              0.0  ...     0.0              1.0  0.0\n",
              "4         1.0        0.0              0.0  ...     0.0              0.0  1.0\n",
              "...       ...        ...              ...  ...     ...              ...  ...\n",
              "28056     0.0        1.0              0.0  ...     0.0              1.0  0.0\n",
              "28057     0.0        1.0              0.0  ...     0.0              1.0  0.0\n",
              "28058     1.0        0.0              0.0  ...     0.0              1.0  0.0\n",
              "28059     1.0        0.0              0.0  ...     0.0              1.0  0.0\n",
              "28060     0.0        1.0              0.0  ...     0.0              1.0  0.0\n",
              "\n",
              "[28061 rows x 41 columns]"
            ]
          },
          "metadata": {
            "tags": []
          },
          "execution_count": 73
        }
      ]
    },
    {
      "cell_type": "markdown",
      "metadata": {
        "id": "gPeXkI6s-FLr"
      },
      "source": [
        "##Feature correlation testing"
      ]
    },
    {
      "cell_type": "code",
      "metadata": {
        "id": "7B_vl_NsHbbB"
      },
      "source": [
        "# we want to verify the validity of the new categorical features obtained through OHE"
      ],
      "execution_count": null,
      "outputs": []
    },
    {
      "cell_type": "code",
      "metadata": {
        "id": "_99B1PA0_xs2"
      },
      "source": [
        "import seaborn as sns"
      ],
      "execution_count": null,
      "outputs": []
    },
    {
      "cell_type": "code",
      "metadata": {
        "id": "VT-2AUAMAgJA"
      },
      "source": [
        "cols10 = cat_df.iloc[:,:10]\n",
        "cols20 = cat_df.iloc[:,10:20]\n",
        "cols30 = cat_df.iloc[:,20:30]\n",
        "cols40 = cat_df.iloc[:,30:]"
      ],
      "execution_count": null,
      "outputs": []
    },
    {
      "cell_type": "code",
      "metadata": {
        "id": "uwgCmScqAoQi"
      },
      "source": [
        "cols10['price'] = listings_NYC['price']\n",
        "cols20['price'] = listings_NYC['price']\n",
        "cols30['price'] = listings_NYC['price']\n",
        "cols40['price'] = listings_NYC['price']"
      ],
      "execution_count": null,
      "outputs": []
    },
    {
      "cell_type": "code",
      "metadata": {
        "id": "41z89uFNATVd",
        "outputId": "e3ac8731-c2cc-4a67-a846-b1cd0142b6d0",
        "colab": {
          "base_uri": "https://localhost:8080/",
          "height": 684
        }
      },
      "source": [
        "# we do the correlation matrix as something more visually appealing\n",
        "# seems to shows more negative correlation than positive one\n",
        "# correlations with price are very little however\n",
        "\n",
        "corr_matrix = cols10.corr()\n",
        "fig, ax = plt.subplots(figsize=(15,10))\n",
        "ax = sns.heatmap(corr_matrix, annot=True, linewidths=1,\n",
        "                fmt=\".2f\",cmap=\"coolwarm\")\n",
        "bottom, top = ax.get_ylim()\n",
        "ax.set_ylim(bottom + 0.5, top -0.5)"
      ],
      "execution_count": null,
      "outputs": [
        {
          "output_type": "execute_result",
          "data": {
            "text/plain": [
              "(11.5, -0.5)"
            ]
          },
          "metadata": {
            "tags": []
          },
          "execution_count": 78
        },
        {
          "output_type": "display_data",
          "data": {
            "image/png": "[encoded data removed]",
            "text/plain": [
              "<Figure size 1080x720 with 2 Axes>"
            ]
          },
          "metadata": {
            "tags": [],
            "needs_background": "light"
          }
        }
      ]
    },
    {
      "cell_type": "markdown",
      "metadata": {
        "id": "xb5y3VsJ8T-1"
      },
      "source": [
        "## Normalizing the preprocessed data"
      ]
    },
    {
      "cell_type": "code",
      "metadata": {
        "id": "vwYrJV2xCZeC"
      },
      "source": [
        "# we normalize the data before using it. Using StandardScaler means the data will have\n",
        "# a mean of 0 with a standard deviation of 1\n",
        "\n",
        "from sklearn.preprocessing import StandardScaler\n",
        "\n",
        "scaler = StandardScaler()\n",
        "numerics = ['int16', 'int32', 'int64', 'float16', 'float32', 'float64']\n",
        "num_values = listings_NYC.select_dtypes(include=numerics)\n",
        "num_values_2 = num_values.copy(deep=True)"
      ],
      "execution_count": null,
      "outputs": []
    },
    {
      "cell_type": "code",
      "metadata": {
        "id": "8DSz9K69FO6M"
      },
      "source": [
        "num_values = num_values.drop(['id','latitude','longitude','zipcode','price'],axis=1)"
      ],
      "execution_count": null,
      "outputs": []
    },
    {
      "cell_type": "code",
      "metadata": {
        "id": "-1iTMOxyFncK",
        "outputId": "add10e9e-dd34-4f60-dab3-d21f3463775e",
        "colab": {
          "base_uri": "https://localhost:8080/",
          "height": 419
        }
      },
      "source": [
        "num_values"
      ],
      "execution_count": null,
      "outputs": [
        {
          "output_type": "execute_result",
          "data": {
            "text/html": [
              "<div>\n",
              "<style scoped>\n",
              "    .dataframe tbody tr th:only-of-type {\n",
              "        vertical-align: middle;\n",
              "    }\n",
              "\n",
              "    .dataframe tbody tr th {\n",
              "        vertical-align: top;\n",
              "    }\n",
              "\n",
              "    .dataframe thead th {\n",
              "        text-align: right;\n",
              "    }\n",
              "</style>\n",
              "<table border=\"1\" class=\"dataframe\">\n",
              "  <thead>\n",
              "    <tr style=\"text-align: right;\">\n",
              "      <th></th>\n",
              "      <th>accommodates</th>\n",
              "      <th>bathrooms</th>\n",
              "      <th>bedrooms</th>\n",
              "      <th>beds</th>\n",
              "      <th>Normalized rating</th>\n",
              "      <th>realestate</th>\n",
              "      <th>num_venues</th>\n",
              "      <th>venues_rating</th>\n",
              "    </tr>\n",
              "  </thead>\n",
              "  <tbody>\n",
              "    <tr>\n",
              "      <th>0</th>\n",
              "      <td>2.0</td>\n",
              "      <td>1.0</td>\n",
              "      <td>1.0</td>\n",
              "      <td>1.0</td>\n",
              "      <td>10.000000</td>\n",
              "      <td>1946.0</td>\n",
              "      <td>51</td>\n",
              "      <td>4.345098</td>\n",
              "    </tr>\n",
              "    <tr>\n",
              "      <th>3</th>\n",
              "      <td>3.0</td>\n",
              "      <td>1.0</td>\n",
              "      <td>1.0</td>\n",
              "      <td>1.0</td>\n",
              "      <td>9.883333</td>\n",
              "      <td>1946.0</td>\n",
              "      <td>54</td>\n",
              "      <td>4.325926</td>\n",
              "    </tr>\n",
              "    <tr>\n",
              "      <th>4</th>\n",
              "      <td>4.0</td>\n",
              "      <td>1.0</td>\n",
              "      <td>1.0</td>\n",
              "      <td>1.0</td>\n",
              "      <td>9.950000</td>\n",
              "      <td>1946.0</td>\n",
              "      <td>54</td>\n",
              "      <td>4.325926</td>\n",
              "    </tr>\n",
              "    <tr>\n",
              "      <th>5</th>\n",
              "      <td>2.0</td>\n",
              "      <td>1.0</td>\n",
              "      <td>0.0</td>\n",
              "      <td>1.0</td>\n",
              "      <td>9.950000</td>\n",
              "      <td>1946.0</td>\n",
              "      <td>60</td>\n",
              "      <td>4.296667</td>\n",
              "    </tr>\n",
              "    <tr>\n",
              "      <th>6</th>\n",
              "      <td>4.0</td>\n",
              "      <td>1.0</td>\n",
              "      <td>1.0</td>\n",
              "      <td>2.0</td>\n",
              "      <td>9.966667</td>\n",
              "      <td>1946.0</td>\n",
              "      <td>51</td>\n",
              "      <td>4.345098</td>\n",
              "    </tr>\n",
              "    <tr>\n",
              "      <th>...</th>\n",
              "      <td>...</td>\n",
              "      <td>...</td>\n",
              "      <td>...</td>\n",
              "      <td>...</td>\n",
              "      <td>...</td>\n",
              "      <td>...</td>\n",
              "      <td>...</td>\n",
              "      <td>...</td>\n",
              "    </tr>\n",
              "    <tr>\n",
              "      <th>40725</th>\n",
              "      <td>1.0</td>\n",
              "      <td>1.0</td>\n",
              "      <td>1.0</td>\n",
              "      <td>1.0</td>\n",
              "      <td>9.666667</td>\n",
              "      <td>2702.0</td>\n",
              "      <td>879</td>\n",
              "      <td>4.186007</td>\n",
              "    </tr>\n",
              "    <tr>\n",
              "      <th>40726</th>\n",
              "      <td>2.0</td>\n",
              "      <td>1.0</td>\n",
              "      <td>1.0</td>\n",
              "      <td>1.0</td>\n",
              "      <td>9.000000</td>\n",
              "      <td>2702.0</td>\n",
              "      <td>1225</td>\n",
              "      <td>4.246857</td>\n",
              "    </tr>\n",
              "    <tr>\n",
              "      <th>40727</th>\n",
              "      <td>5.0</td>\n",
              "      <td>1.0</td>\n",
              "      <td>3.0</td>\n",
              "      <td>3.0</td>\n",
              "      <td>9.633333</td>\n",
              "      <td>2702.0</td>\n",
              "      <td>816</td>\n",
              "      <td>4.131618</td>\n",
              "    </tr>\n",
              "    <tr>\n",
              "      <th>40730</th>\n",
              "      <td>5.0</td>\n",
              "      <td>1.0</td>\n",
              "      <td>1.0</td>\n",
              "      <td>2.0</td>\n",
              "      <td>9.600000</td>\n",
              "      <td>2702.0</td>\n",
              "      <td>1157</td>\n",
              "      <td>4.229818</td>\n",
              "    </tr>\n",
              "    <tr>\n",
              "      <th>40731</th>\n",
              "      <td>1.0</td>\n",
              "      <td>1.5</td>\n",
              "      <td>4.0</td>\n",
              "      <td>1.0</td>\n",
              "      <td>9.933333</td>\n",
              "      <td>2702.0</td>\n",
              "      <td>880</td>\n",
              "      <td>4.150341</td>\n",
              "    </tr>\n",
              "  </tbody>\n",
              "</table>\n",
              "<p>28061 rows × 8 columns</p>\n",
              "</div>"
            ],
            "text/plain": [
              "       accommodates  bathrooms  bedrooms  ...  realestate  num_venues  venues_rating\n",
              "0               2.0        1.0       1.0  ...      1946.0          51       4.345098\n",
              "3               3.0        1.0       1.0  ...      1946.0          54       4.325926\n",
              "4               4.0        1.0       1.0  ...      1946.0          54       4.325926\n",
              "5               2.0        1.0       0.0  ...      1946.0          60       4.296667\n",
              "6               4.0        1.0       1.0  ...      1946.0          51       4.345098\n",
              "...             ...        ...       ...  ...         ...         ...            ...\n",
              "40725           1.0        1.0       1.0  ...      2702.0         879       4.186007\n",
              "40726           2.0        1.0       1.0  ...      2702.0        1225       4.246857\n",
              "40727           5.0        1.0       3.0  ...      2702.0         816       4.131618\n",
              "40730           5.0        1.0       1.0  ...      2702.0        1157       4.229818\n",
              "40731           1.0        1.5       4.0  ...      2702.0         880       4.150341\n",
              "\n",
              "[28061 rows x 8 columns]"
            ]
          },
          "metadata": {
            "tags": []
          },
          "execution_count": 81
        }
      ]
    },
    {
      "cell_type": "code",
      "metadata": {
        "id": "wvWo9PuOD6zQ",
        "outputId": "b13bde47-60f5-4ffa-ea9f-6890ccc1258b",
        "colab": {
          "base_uri": "https://localhost:8080/",
          "height": 51
        }
      },
      "source": [
        "scaler.fit(num_values)\n",
        "scaler.mean_"
      ],
      "execution_count": null,
      "outputs": [
        {
          "output_type": "execute_result",
          "data": {
            "text/plain": [
              "array([2.87060333e+00, 1.11685257e+00, 1.14447097e+00, 1.55981611e+00,\n",
              "       9.45259138e+00, 3.17081180e+03, 1.22454389e+03, 4.11119578e+00])"
            ]
          },
          "metadata": {
            "tags": []
          },
          "execution_count": 82
        }
      ]
    },
    {
      "cell_type": "code",
      "metadata": {
        "id": "kYtCeXbQEvmZ",
        "outputId": "c01f9ef4-825f-4b56-c588-9c78b7b54ae7",
        "colab": {
          "base_uri": "https://localhost:8080/",
          "height": 34
        }
      },
      "source": [
        "num_scaled = scaler.fit_transform(num_values)\n",
        "print(num_scaled.shape)"
      ],
      "execution_count": null,
      "outputs": [
        {
          "output_type": "stream",
          "text": [
            "(28061, 8)\n"
          ],
          "name": "stdout"
        }
      ]
    },
    {
      "cell_type": "code",
      "metadata": {
        "id": "ABxYwFJWNEnm",
        "outputId": "8b2d71ec-b831-455b-a7e8-bf7803298508",
        "colab": {
          "base_uri": "https://localhost:8080/",
          "height": 238
        }
      },
      "source": [
        "num_scaled"
      ],
      "execution_count": null,
      "outputs": [
        {
          "output_type": "execute_result",
          "data": {
            "text/plain": [
              "array([[-0.48871648, -0.32436157, -0.21264662, ..., -1.63048868,\n",
              "        -1.17356607,  2.19316508],\n",
              "       [ 0.07263731, -0.32436157, -0.21264662, ..., -1.63048868,\n",
              "        -1.17056602,  2.01339935],\n",
              "       [ 0.6339911 , -0.32436157, -0.21264662, ..., -1.63048868,\n",
              "        -1.17056602,  2.01339935],\n",
              "       ...,\n",
              "       [ 1.19534489, -0.32436157,  2.73115049, ..., -0.62408963,\n",
              "        -0.40855161,  0.19148396],\n",
              "       [ 1.19534489, -0.32436157, -0.21264662, ..., -0.62408963,\n",
              "        -0.06754516,  1.11225604],\n",
              "       [-1.05007026,  1.06354784,  4.20304904, ..., -0.62408963,\n",
              "        -0.3445504 ,  0.36704107]])"
            ]
          },
          "metadata": {
            "tags": []
          },
          "execution_count": 84
        }
      ]
    },
    {
      "cell_type": "code",
      "metadata": {
        "id": "nEvCHfx-G4o_"
      },
      "source": [
        "cols = list(num_values.columns)"
      ],
      "execution_count": null,
      "outputs": []
    },
    {
      "cell_type": "code",
      "metadata": {
        "id": "sfAf8nsaNhlv"
      },
      "source": [
        "num_scaled = pd.DataFrame(num_scaled, columns=cols)"
      ],
      "execution_count": null,
      "outputs": []
    },
    {
      "cell_type": "code",
      "metadata": {
        "id": "P_VIgVA8Nofs",
        "outputId": "1d80c847-3631-4cb3-a9d3-639f9b9192ef",
        "colab": {
          "base_uri": "https://localhost:8080/",
          "height": 419
        }
      },
      "source": [
        "num_scaled"
      ],
      "execution_count": null,
      "outputs": [
        {
          "output_type": "execute_result",
          "data": {
            "text/html": [
              "<div>\n",
              "<style scoped>\n",
              "    .dataframe tbody tr th:only-of-type {\n",
              "        vertical-align: middle;\n",
              "    }\n",
              "\n",
              "    .dataframe tbody tr th {\n",
              "        vertical-align: top;\n",
              "    }\n",
              "\n",
              "    .dataframe thead th {\n",
              "        text-align: right;\n",
              "    }\n",
              "</style>\n",
              "<table border=\"1\" class=\"dataframe\">\n",
              "  <thead>\n",
              "    <tr style=\"text-align: right;\">\n",
              "      <th></th>\n",
              "      <th>accommodates</th>\n",
              "      <th>bathrooms</th>\n",
              "      <th>bedrooms</th>\n",
              "      <th>beds</th>\n",
              "      <th>Normalized rating</th>\n",
              "      <th>realestate</th>\n",
              "      <th>num_venues</th>\n",
              "      <th>venues_rating</th>\n",
              "    </tr>\n",
              "  </thead>\n",
              "  <tbody>\n",
              "    <tr>\n",
              "      <th>0</th>\n",
              "      <td>-0.488716</td>\n",
              "      <td>-0.324362</td>\n",
              "      <td>-0.212647</td>\n",
              "      <td>-0.537912</td>\n",
              "      <td>0.848284</td>\n",
              "      <td>-1.630489</td>\n",
              "      <td>-1.173566</td>\n",
              "      <td>2.193165</td>\n",
              "    </tr>\n",
              "    <tr>\n",
              "      <th>1</th>\n",
              "      <td>0.072637</td>\n",
              "      <td>-0.324362</td>\n",
              "      <td>-0.212647</td>\n",
              "      <td>-0.537912</td>\n",
              "      <td>0.667493</td>\n",
              "      <td>-1.630489</td>\n",
              "      <td>-1.170566</td>\n",
              "      <td>2.013399</td>\n",
              "    </tr>\n",
              "    <tr>\n",
              "      <th>2</th>\n",
              "      <td>0.633991</td>\n",
              "      <td>-0.324362</td>\n",
              "      <td>-0.212647</td>\n",
              "      <td>-0.537912</td>\n",
              "      <td>0.770802</td>\n",
              "      <td>-1.630489</td>\n",
              "      <td>-1.170566</td>\n",
              "      <td>2.013399</td>\n",
              "    </tr>\n",
              "    <tr>\n",
              "      <th>3</th>\n",
              "      <td>-0.488716</td>\n",
              "      <td>-0.324362</td>\n",
              "      <td>-1.684545</td>\n",
              "      <td>-0.537912</td>\n",
              "      <td>0.770802</td>\n",
              "      <td>-1.630489</td>\n",
              "      <td>-1.164566</td>\n",
              "      <td>1.739052</td>\n",
              "    </tr>\n",
              "    <tr>\n",
              "      <th>4</th>\n",
              "      <td>0.633991</td>\n",
              "      <td>-0.324362</td>\n",
              "      <td>-0.212647</td>\n",
              "      <td>0.422961</td>\n",
              "      <td>0.796629</td>\n",
              "      <td>-1.630489</td>\n",
              "      <td>-1.173566</td>\n",
              "      <td>2.193165</td>\n",
              "    </tr>\n",
              "    <tr>\n",
              "      <th>...</th>\n",
              "      <td>...</td>\n",
              "      <td>...</td>\n",
              "      <td>...</td>\n",
              "      <td>...</td>\n",
              "      <td>...</td>\n",
              "      <td>...</td>\n",
              "      <td>...</td>\n",
              "      <td>...</td>\n",
              "    </tr>\n",
              "    <tr>\n",
              "      <th>28056</th>\n",
              "      <td>-1.050070</td>\n",
              "      <td>-0.324362</td>\n",
              "      <td>-0.212647</td>\n",
              "      <td>-0.537912</td>\n",
              "      <td>0.331739</td>\n",
              "      <td>-0.624090</td>\n",
              "      <td>-0.345550</td>\n",
              "      <td>0.701460</td>\n",
              "    </tr>\n",
              "    <tr>\n",
              "      <th>28057</th>\n",
              "      <td>-0.488716</td>\n",
              "      <td>-0.324362</td>\n",
              "      <td>-0.212647</td>\n",
              "      <td>-0.537912</td>\n",
              "      <td>-0.701352</td>\n",
              "      <td>-0.624090</td>\n",
              "      <td>0.000456</td>\n",
              "      <td>1.272017</td>\n",
              "    </tr>\n",
              "    <tr>\n",
              "      <th>28058</th>\n",
              "      <td>1.195345</td>\n",
              "      <td>-0.324362</td>\n",
              "      <td>2.731150</td>\n",
              "      <td>1.383833</td>\n",
              "      <td>0.280084</td>\n",
              "      <td>-0.624090</td>\n",
              "      <td>-0.408552</td>\n",
              "      <td>0.191484</td>\n",
              "    </tr>\n",
              "    <tr>\n",
              "      <th>28059</th>\n",
              "      <td>1.195345</td>\n",
              "      <td>-0.324362</td>\n",
              "      <td>-0.212647</td>\n",
              "      <td>0.422961</td>\n",
              "      <td>0.228430</td>\n",
              "      <td>-0.624090</td>\n",
              "      <td>-0.067545</td>\n",
              "      <td>1.112256</td>\n",
              "    </tr>\n",
              "    <tr>\n",
              "      <th>28060</th>\n",
              "      <td>-1.050070</td>\n",
              "      <td>1.063548</td>\n",
              "      <td>4.203049</td>\n",
              "      <td>-0.537912</td>\n",
              "      <td>0.744975</td>\n",
              "      <td>-0.624090</td>\n",
              "      <td>-0.344550</td>\n",
              "      <td>0.367041</td>\n",
              "    </tr>\n",
              "  </tbody>\n",
              "</table>\n",
              "<p>28061 rows × 8 columns</p>\n",
              "</div>"
            ],
            "text/plain": [
              "       accommodates  bathrooms  bedrooms  ...  realestate  num_venues  venues_rating\n",
              "0         -0.488716  -0.324362 -0.212647  ...   -1.630489   -1.173566       2.193165\n",
              "1          0.072637  -0.324362 -0.212647  ...   -1.630489   -1.170566       2.013399\n",
              "2          0.633991  -0.324362 -0.212647  ...   -1.630489   -1.170566       2.013399\n",
              "3         -0.488716  -0.324362 -1.684545  ...   -1.630489   -1.164566       1.739052\n",
              "4          0.633991  -0.324362 -0.212647  ...   -1.630489   -1.173566       2.193165\n",
              "...             ...        ...       ...  ...         ...         ...            ...\n",
              "28056     -1.050070  -0.324362 -0.212647  ...   -0.624090   -0.345550       0.701460\n",
              "28057     -0.488716  -0.324362 -0.212647  ...   -0.624090    0.000456       1.272017\n",
              "28058      1.195345  -0.324362  2.731150  ...   -0.624090   -0.408552       0.191484\n",
              "28059      1.195345  -0.324362 -0.212647  ...   -0.624090   -0.067545       1.112256\n",
              "28060     -1.050070   1.063548  4.203049  ...   -0.624090   -0.344550       0.367041\n",
              "\n",
              "[28061 rows x 8 columns]"
            ]
          },
          "metadata": {
            "tags": []
          },
          "execution_count": 87
        }
      ]
    },
    {
      "cell_type": "code",
      "metadata": {
        "id": "wd0IRpgicd6K"
      },
      "source": [
        "num_values_2=num_values_2.reset_index(drop=True)\n"
      ],
      "execution_count": null,
      "outputs": []
    },
    {
      "cell_type": "code",
      "metadata": {
        "id": "I1ETg5GBhTPw",
        "outputId": "86f5e425-6ee7-4d86-f17b-6629c3672dca",
        "colab": {
          "base_uri": "https://localhost:8080/",
          "height": 419
        }
      },
      "source": [
        "num_values_2"
      ],
      "execution_count": null,
      "outputs": [
        {
          "output_type": "execute_result",
          "data": {
            "text/html": [
              "<div>\n",
              "<style scoped>\n",
              "    .dataframe tbody tr th:only-of-type {\n",
              "        vertical-align: middle;\n",
              "    }\n",
              "\n",
              "    .dataframe tbody tr th {\n",
              "        vertical-align: top;\n",
              "    }\n",
              "\n",
              "    .dataframe thead th {\n",
              "        text-align: right;\n",
              "    }\n",
              "</style>\n",
              "<table border=\"1\" class=\"dataframe\">\n",
              "  <thead>\n",
              "    <tr style=\"text-align: right;\">\n",
              "      <th></th>\n",
              "      <th>accommodates</th>\n",
              "      <th>bathrooms</th>\n",
              "      <th>bedrooms</th>\n",
              "      <th>beds</th>\n",
              "      <th>id</th>\n",
              "      <th>latitude</th>\n",
              "      <th>longitude</th>\n",
              "      <th>price</th>\n",
              "      <th>zipcode</th>\n",
              "      <th>Normalized rating</th>\n",
              "      <th>realestate</th>\n",
              "      <th>num_venues</th>\n",
              "      <th>venues_rating</th>\n",
              "    </tr>\n",
              "  </thead>\n",
              "  <tbody>\n",
              "    <tr>\n",
              "      <th>0</th>\n",
              "      <td>2.0</td>\n",
              "      <td>1.0</td>\n",
              "      <td>1.0</td>\n",
              "      <td>1.0</td>\n",
              "      <td>7949480</td>\n",
              "      <td>40.852054</td>\n",
              "      <td>-73.788680</td>\n",
              "      <td>99.0</td>\n",
              "      <td>10464.0</td>\n",
              "      <td>10.000000</td>\n",
              "      <td>1946.0</td>\n",
              "      <td>51</td>\n",
              "      <td>4.345098</td>\n",
              "    </tr>\n",
              "    <tr>\n",
              "      <th>1</th>\n",
              "      <td>3.0</td>\n",
              "      <td>1.0</td>\n",
              "      <td>1.0</td>\n",
              "      <td>1.0</td>\n",
              "      <td>6627449</td>\n",
              "      <td>40.849775</td>\n",
              "      <td>-73.786609</td>\n",
              "      <td>125.0</td>\n",
              "      <td>10464.0</td>\n",
              "      <td>9.883333</td>\n",
              "      <td>1946.0</td>\n",
              "      <td>54</td>\n",
              "      <td>4.325926</td>\n",
              "    </tr>\n",
              "    <tr>\n",
              "      <th>2</th>\n",
              "      <td>4.0</td>\n",
              "      <td>1.0</td>\n",
              "      <td>1.0</td>\n",
              "      <td>1.0</td>\n",
              "      <td>5557381</td>\n",
              "      <td>40.850024</td>\n",
              "      <td>-73.789328</td>\n",
              "      <td>69.0</td>\n",
              "      <td>10464.0</td>\n",
              "      <td>9.950000</td>\n",
              "      <td>1946.0</td>\n",
              "      <td>54</td>\n",
              "      <td>4.325926</td>\n",
              "    </tr>\n",
              "    <tr>\n",
              "      <th>3</th>\n",
              "      <td>2.0</td>\n",
              "      <td>1.0</td>\n",
              "      <td>0.0</td>\n",
              "      <td>1.0</td>\n",
              "      <td>9147025</td>\n",
              "      <td>40.844870</td>\n",
              "      <td>-73.789541</td>\n",
              "      <td>125.0</td>\n",
              "      <td>10464.0</td>\n",
              "      <td>9.950000</td>\n",
              "      <td>1946.0</td>\n",
              "      <td>60</td>\n",
              "      <td>4.296667</td>\n",
              "    </tr>\n",
              "    <tr>\n",
              "      <th>4</th>\n",
              "      <td>4.0</td>\n",
              "      <td>1.0</td>\n",
              "      <td>1.0</td>\n",
              "      <td>2.0</td>\n",
              "      <td>11675715</td>\n",
              "      <td>40.851391</td>\n",
              "      <td>-73.784139</td>\n",
              "      <td>85.0</td>\n",
              "      <td>10464.0</td>\n",
              "      <td>9.966667</td>\n",
              "      <td>1946.0</td>\n",
              "      <td>51</td>\n",
              "      <td>4.345098</td>\n",
              "    </tr>\n",
              "    <tr>\n",
              "      <th>...</th>\n",
              "      <td>...</td>\n",
              "      <td>...</td>\n",
              "      <td>...</td>\n",
              "      <td>...</td>\n",
              "      <td>...</td>\n",
              "      <td>...</td>\n",
              "      <td>...</td>\n",
              "      <td>...</td>\n",
              "      <td>...</td>\n",
              "      <td>...</td>\n",
              "      <td>...</td>\n",
              "      <td>...</td>\n",
              "      <td>...</td>\n",
              "    </tr>\n",
              "    <tr>\n",
              "      <th>28056</th>\n",
              "      <td>1.0</td>\n",
              "      <td>1.0</td>\n",
              "      <td>1.0</td>\n",
              "      <td>1.0</td>\n",
              "      <td>17957521</td>\n",
              "      <td>40.708237</td>\n",
              "      <td>-73.943789</td>\n",
              "      <td>59.0</td>\n",
              "      <td>11206.0</td>\n",
              "      <td>9.666667</td>\n",
              "      <td>2702.0</td>\n",
              "      <td>879</td>\n",
              "      <td>4.186007</td>\n",
              "    </tr>\n",
              "    <tr>\n",
              "      <th>28057</th>\n",
              "      <td>2.0</td>\n",
              "      <td>1.0</td>\n",
              "      <td>1.0</td>\n",
              "      <td>1.0</td>\n",
              "      <td>14942680</td>\n",
              "      <td>40.708192</td>\n",
              "      <td>-73.949981</td>\n",
              "      <td>90.0</td>\n",
              "      <td>11206.0</td>\n",
              "      <td>9.000000</td>\n",
              "      <td>2702.0</td>\n",
              "      <td>1225</td>\n",
              "      <td>4.246857</td>\n",
              "    </tr>\n",
              "    <tr>\n",
              "      <th>28058</th>\n",
              "      <td>5.0</td>\n",
              "      <td>1.0</td>\n",
              "      <td>3.0</td>\n",
              "      <td>3.0</td>\n",
              "      <td>7471933</td>\n",
              "      <td>40.704137</td>\n",
              "      <td>-73.934081</td>\n",
              "      <td>250.0</td>\n",
              "      <td>11206.0</td>\n",
              "      <td>9.633333</td>\n",
              "      <td>2702.0</td>\n",
              "      <td>816</td>\n",
              "      <td>4.131618</td>\n",
              "    </tr>\n",
              "    <tr>\n",
              "      <th>28059</th>\n",
              "      <td>5.0</td>\n",
              "      <td>1.0</td>\n",
              "      <td>1.0</td>\n",
              "      <td>2.0</td>\n",
              "      <td>6684697</td>\n",
              "      <td>40.708768</td>\n",
              "      <td>-73.948891</td>\n",
              "      <td>125.0</td>\n",
              "      <td>11206.0</td>\n",
              "      <td>9.600000</td>\n",
              "      <td>2702.0</td>\n",
              "      <td>1157</td>\n",
              "      <td>4.229818</td>\n",
              "    </tr>\n",
              "    <tr>\n",
              "      <th>28060</th>\n",
              "      <td>1.0</td>\n",
              "      <td>1.5</td>\n",
              "      <td>4.0</td>\n",
              "      <td>1.0</td>\n",
              "      <td>1835049</td>\n",
              "      <td>40.706738</td>\n",
              "      <td>-73.943422</td>\n",
              "      <td>59.0</td>\n",
              "      <td>11206.0</td>\n",
              "      <td>9.933333</td>\n",
              "      <td>2702.0</td>\n",
              "      <td>880</td>\n",
              "      <td>4.150341</td>\n",
              "    </tr>\n",
              "  </tbody>\n",
              "</table>\n",
              "<p>28061 rows × 13 columns</p>\n",
              "</div>"
            ],
            "text/plain": [
              "       accommodates  bathrooms  bedrooms  ...  realestate  num_venues  venues_rating\n",
              "0               2.0        1.0       1.0  ...      1946.0          51       4.345098\n",
              "1               3.0        1.0       1.0  ...      1946.0          54       4.325926\n",
              "2               4.0        1.0       1.0  ...      1946.0          54       4.325926\n",
              "3               2.0        1.0       0.0  ...      1946.0          60       4.296667\n",
              "4               4.0        1.0       1.0  ...      1946.0          51       4.345098\n",
              "...             ...        ...       ...  ...         ...         ...            ...\n",
              "28056           1.0        1.0       1.0  ...      2702.0         879       4.186007\n",
              "28057           2.0        1.0       1.0  ...      2702.0        1225       4.246857\n",
              "28058           5.0        1.0       3.0  ...      2702.0         816       4.131618\n",
              "28059           5.0        1.0       1.0  ...      2702.0        1157       4.229818\n",
              "28060           1.0        1.5       4.0  ...      2702.0         880       4.150341\n",
              "\n",
              "[28061 rows x 13 columns]"
            ]
          },
          "metadata": {
            "tags": []
          },
          "execution_count": 89
        }
      ]
    },
    {
      "cell_type": "markdown",
      "metadata": {
        "id": "Nr8mAVY4Kgou"
      },
      "source": [
        "## Final dataframe to use"
      ]
    },
    {
      "cell_type": "code",
      "metadata": {
        "id": "XPRkHRaPS3Cd",
        "outputId": "2e096d63-db92-4625-80bc-3ee028132f53",
        "colab": {
          "base_uri": "https://localhost:8080/",
          "height": 419
        }
      },
      "source": [
        "num_df = num_scaled\n",
        "num_df['price'] = num_values_2['price'] \n",
        "\n",
        "num_scaled"
      ],
      "execution_count": null,
      "outputs": [
        {
          "output_type": "execute_result",
          "data": {
            "text/html": [
              "<div>\n",
              "<style scoped>\n",
              "    .dataframe tbody tr th:only-of-type {\n",
              "        vertical-align: middle;\n",
              "    }\n",
              "\n",
              "    .dataframe tbody tr th {\n",
              "        vertical-align: top;\n",
              "    }\n",
              "\n",
              "    .dataframe thead th {\n",
              "        text-align: right;\n",
              "    }\n",
              "</style>\n",
              "<table border=\"1\" class=\"dataframe\">\n",
              "  <thead>\n",
              "    <tr style=\"text-align: right;\">\n",
              "      <th></th>\n",
              "      <th>accommodates</th>\n",
              "      <th>bathrooms</th>\n",
              "      <th>bedrooms</th>\n",
              "      <th>beds</th>\n",
              "      <th>Normalized rating</th>\n",
              "      <th>realestate</th>\n",
              "      <th>num_venues</th>\n",
              "      <th>venues_rating</th>\n",
              "      <th>price</th>\n",
              "    </tr>\n",
              "  </thead>\n",
              "  <tbody>\n",
              "    <tr>\n",
              "      <th>0</th>\n",
              "      <td>-0.488716</td>\n",
              "      <td>-0.324362</td>\n",
              "      <td>-0.212647</td>\n",
              "      <td>-0.537912</td>\n",
              "      <td>0.848284</td>\n",
              "      <td>-1.630489</td>\n",
              "      <td>-1.173566</td>\n",
              "      <td>2.193165</td>\n",
              "      <td>99.0</td>\n",
              "    </tr>\n",
              "    <tr>\n",
              "      <th>1</th>\n",
              "      <td>0.072637</td>\n",
              "      <td>-0.324362</td>\n",
              "      <td>-0.212647</td>\n",
              "      <td>-0.537912</td>\n",
              "      <td>0.667493</td>\n",
              "      <td>-1.630489</td>\n",
              "      <td>-1.170566</td>\n",
              "      <td>2.013399</td>\n",
              "      <td>125.0</td>\n",
              "    </tr>\n",
              "    <tr>\n",
              "      <th>2</th>\n",
              "      <td>0.633991</td>\n",
              "      <td>-0.324362</td>\n",
              "      <td>-0.212647</td>\n",
              "      <td>-0.537912</td>\n",
              "      <td>0.770802</td>\n",
              "      <td>-1.630489</td>\n",
              "      <td>-1.170566</td>\n",
              "      <td>2.013399</td>\n",
              "      <td>69.0</td>\n",
              "    </tr>\n",
              "    <tr>\n",
              "      <th>3</th>\n",
              "      <td>-0.488716</td>\n",
              "      <td>-0.324362</td>\n",
              "      <td>-1.684545</td>\n",
              "      <td>-0.537912</td>\n",
              "      <td>0.770802</td>\n",
              "      <td>-1.630489</td>\n",
              "      <td>-1.164566</td>\n",
              "      <td>1.739052</td>\n",
              "      <td>125.0</td>\n",
              "    </tr>\n",
              "    <tr>\n",
              "      <th>4</th>\n",
              "      <td>0.633991</td>\n",
              "      <td>-0.324362</td>\n",
              "      <td>-0.212647</td>\n",
              "      <td>0.422961</td>\n",
              "      <td>0.796629</td>\n",
              "      <td>-1.630489</td>\n",
              "      <td>-1.173566</td>\n",
              "      <td>2.193165</td>\n",
              "      <td>85.0</td>\n",
              "    </tr>\n",
              "    <tr>\n",
              "      <th>...</th>\n",
              "      <td>...</td>\n",
              "      <td>...</td>\n",
              "      <td>...</td>\n",
              "      <td>...</td>\n",
              "      <td>...</td>\n",
              "      <td>...</td>\n",
              "      <td>...</td>\n",
              "      <td>...</td>\n",
              "      <td>...</td>\n",
              "    </tr>\n",
              "    <tr>\n",
              "      <th>28056</th>\n",
              "      <td>-1.050070</td>\n",
              "      <td>-0.324362</td>\n",
              "      <td>-0.212647</td>\n",
              "      <td>-0.537912</td>\n",
              "      <td>0.331739</td>\n",
              "      <td>-0.624090</td>\n",
              "      <td>-0.345550</td>\n",
              "      <td>0.701460</td>\n",
              "      <td>59.0</td>\n",
              "    </tr>\n",
              "    <tr>\n",
              "      <th>28057</th>\n",
              "      <td>-0.488716</td>\n",
              "      <td>-0.324362</td>\n",
              "      <td>-0.212647</td>\n",
              "      <td>-0.537912</td>\n",
              "      <td>-0.701352</td>\n",
              "      <td>-0.624090</td>\n",
              "      <td>0.000456</td>\n",
              "      <td>1.272017</td>\n",
              "      <td>90.0</td>\n",
              "    </tr>\n",
              "    <tr>\n",
              "      <th>28058</th>\n",
              "      <td>1.195345</td>\n",
              "      <td>-0.324362</td>\n",
              "      <td>2.731150</td>\n",
              "      <td>1.383833</td>\n",
              "      <td>0.280084</td>\n",
              "      <td>-0.624090</td>\n",
              "      <td>-0.408552</td>\n",
              "      <td>0.191484</td>\n",
              "      <td>250.0</td>\n",
              "    </tr>\n",
              "    <tr>\n",
              "      <th>28059</th>\n",
              "      <td>1.195345</td>\n",
              "      <td>-0.324362</td>\n",
              "      <td>-0.212647</td>\n",
              "      <td>0.422961</td>\n",
              "      <td>0.228430</td>\n",
              "      <td>-0.624090</td>\n",
              "      <td>-0.067545</td>\n",
              "      <td>1.112256</td>\n",
              "      <td>125.0</td>\n",
              "    </tr>\n",
              "    <tr>\n",
              "      <th>28060</th>\n",
              "      <td>-1.050070</td>\n",
              "      <td>1.063548</td>\n",
              "      <td>4.203049</td>\n",
              "      <td>-0.537912</td>\n",
              "      <td>0.744975</td>\n",
              "      <td>-0.624090</td>\n",
              "      <td>-0.344550</td>\n",
              "      <td>0.367041</td>\n",
              "      <td>59.0</td>\n",
              "    </tr>\n",
              "  </tbody>\n",
              "</table>\n",
              "<p>28061 rows × 9 columns</p>\n",
              "</div>"
            ],
            "text/plain": [
              "       accommodates  bathrooms  bedrooms  ...  num_venues  venues_rating  price\n",
              "0         -0.488716  -0.324362 -0.212647  ...   -1.173566       2.193165   99.0\n",
              "1          0.072637  -0.324362 -0.212647  ...   -1.170566       2.013399  125.0\n",
              "2          0.633991  -0.324362 -0.212647  ...   -1.170566       2.013399   69.0\n",
              "3         -0.488716  -0.324362 -1.684545  ...   -1.164566       1.739052  125.0\n",
              "4          0.633991  -0.324362 -0.212647  ...   -1.173566       2.193165   85.0\n",
              "...             ...        ...       ...  ...         ...            ...    ...\n",
              "28056     -1.050070  -0.324362 -0.212647  ...   -0.345550       0.701460   59.0\n",
              "28057     -0.488716  -0.324362 -0.212647  ...    0.000456       1.272017   90.0\n",
              "28058      1.195345  -0.324362  2.731150  ...   -0.408552       0.191484  250.0\n",
              "28059      1.195345  -0.324362 -0.212647  ...   -0.067545       1.112256  125.0\n",
              "28060     -1.050070   1.063548  4.203049  ...   -0.344550       0.367041   59.0\n",
              "\n",
              "[28061 rows x 9 columns]"
            ]
          },
          "metadata": {
            "tags": []
          },
          "execution_count": 90
        }
      ]
    },
    {
      "cell_type": "code",
      "metadata": {
        "id": "bO1ONw5JXHKV"
      },
      "source": [
        "df = num_df.join(cat_df)"
      ],
      "execution_count": null,
      "outputs": []
    },
    {
      "cell_type": "markdown",
      "metadata": {
        "id": "xcuflmwaQU1g"
      },
      "source": [
        "## Splitting the data"
      ]
    },
    {
      "cell_type": "code",
      "metadata": {
        "id": "HYq5Ct-LQT0h"
      },
      "source": [
        "from sklearn.model_selection import train_test_split\n",
        "\n",
        "y = df['price']\n",
        "X = df.drop(['price'],axis=1)\n",
        " \n",
        "train, other = train_test_split(df, test_size = 0.2, random_state = 42)\n",
        "validation, test = train_test_split(other, test_size = 0.5, random_state=42)"
      ],
      "execution_count": null,
      "outputs": []
    },
    {
      "cell_type": "code",
      "metadata": {
        "id": "-NdaEEexQZkP"
      },
      "source": [
        "X_train = train.drop(columns=['price'])\n",
        "y_train = train['price']\n",
        "X_validation = validation.drop(columns=['price'])\n",
        "y_validation = validation['price']\n",
        "X_test = test.drop(columns=['price'])\n",
        "y_test = test['price']"
      ],
      "execution_count": null,
      "outputs": []
    },
    {
      "cell_type": "markdown",
      "metadata": {
        "id": "z4kxMBvS87_G"
      },
      "source": [
        "## Training regression model"
      ]
    },
    {
      "cell_type": "code",
      "metadata": {
        "id": "dTbWU1oQ-sJ5",
        "outputId": "682eb059-d9fa-4a7e-a38a-61aad9df516f",
        "colab": {
          "base_uri": "https://localhost:8080/",
          "height": 119
        }
      },
      "source": [
        "# creating a basic decision tree\n",
        "\n",
        "from sklearn.tree import DecisionTreeRegressor\n",
        "\n",
        "tree_reg = DecisionTreeRegressor()\n",
        "tree_reg.fit(X_train,y_train)"
      ],
      "execution_count": null,
      "outputs": [
        {
          "output_type": "execute_result",
          "data": {
            "text/plain": [
              "DecisionTreeRegressor(ccp_alpha=0.0, criterion='mse', max_depth=None,\n",
              "                      max_features=None, max_leaf_nodes=None,\n",
              "                      min_impurity_decrease=0.0, min_impurity_split=None,\n",
              "                      min_samples_leaf=1, min_samples_split=2,\n",
              "                      min_weight_fraction_leaf=0.0, presort='deprecated',\n",
              "                      random_state=None, splitter='best')"
            ]
          },
          "metadata": {
            "tags": []
          },
          "execution_count": 94
        }
      ]
    },
    {
      "cell_type": "code",
      "metadata": {
        "id": "SAx4-Ql29CTm"
      },
      "source": [
        "# we use sklearn's K-fold cross validation feature to split the training set in 10 distinct subsets\n",
        "# on which the Decision Tree model can work on\n",
        "\n",
        "from sklearn.model_selection import cross_val_score\n",
        "scores = cross_val_score(tree_reg,X_train,y_train,\n",
        "                         scoring='neg_mean_squared_error', cv=10)\n",
        "tree_rmse_scores = np.sqrt(-scores)"
      ],
      "execution_count": null,
      "outputs": []
    },
    {
      "cell_type": "code",
      "metadata": {
        "id": "myfpiWwb_-MD",
        "outputId": "4253aa4b-891e-47c5-82cd-9ca313adcf05",
        "colab": {
          "base_uri": "https://localhost:8080/",
          "height": 85
        }
      },
      "source": [
        "#let us check initial results\n",
        "\n",
        "def display_scores(scores):\n",
        "  print('Scores:', scores)\n",
        "  print('Mean:', scores.mean())\n",
        "  print('Standard Deviation:', scores.std())\n",
        "\n",
        "display_scores(tree_rmse_scores)"
      ],
      "execution_count": null,
      "outputs": [
        {
          "output_type": "stream",
          "text": [
            "Scores: [72.13731338 73.16735249 77.6577409  71.7324744  73.5263933  75.73434111\n",
            " 74.59848873 69.79426655 71.19487892 72.15554969]\n",
            "Mean: 73.1698799481609\n",
            "Standard Deviation: 2.1986809072434568\n"
          ],
          "name": "stdout"
        }
      ]
    },
    {
      "cell_type": "code",
      "metadata": {
        "id": "5nCRdIFPAz7N",
        "outputId": "35f7f0c2-10eb-4f5a-c391-40f0f0015e87",
        "colab": {
          "base_uri": "https://localhost:8080/",
          "height": 102
        }
      },
      "source": [
        "# lets see how linear regression works here\n",
        "# seems like linear regression performs better (•needs verification as it doesn't work anymore•)\n",
        "\n",
        "from sklearn.linear_model import LinearRegression\n",
        "l_reg = LinearRegression()\n",
        "\n",
        "lin_scores = cross_val_score(l_reg, X_train, y_train,\n",
        "                             scoring='neg_mean_squared_error', cv=10)\n",
        "lin_rmse_scores = np.sqrt(-lin_scores)\n",
        "display_scores(lin_rmse_scores)"
      ],
      "execution_count": null,
      "outputs": [
        {
          "output_type": "stream",
          "text": [
            "Scores: [5.69201015e+01 5.71257369e+01 8.26007188e+10 5.70068746e+01\n",
            " 5.66520098e+01 6.00610861e+01 5.44510747e+01 1.56328645e+10\n",
            " 5.75822011e+01 5.35189857e+01]\n",
            "Mean: 9823358381.82407\n",
            "Standard Deviation: 24702796411.45845\n"
          ],
          "name": "stdout"
        }
      ]
    },
    {
      "cell_type": "code",
      "metadata": {
        "id": "fxdNHknRBxm2",
        "outputId": "3e5e4ac2-eafa-41dd-bc2d-ef168dc36bad",
        "colab": {
          "base_uri": "https://localhost:8080/",
          "height": 85
        }
      },
      "source": [
        "# # bad overfitting of the DecisionTree, we decide to use a RandomForestRegressor\n",
        "# # seems to work much better so we continue with this model \n",
        "\n",
        "from sklearn.ensemble import RandomForestRegressor\n",
        "forest_reg = RandomForestRegressor()\n",
        "forest_scores = cross_val_score(forest_reg, X_train, y_train,\n",
        "                             scoring='neg_mean_squared_error', cv=10)\n",
        "model = forest_reg.fit(X_train,y_train)\n",
        "forest_rmse = np.sqrt(-forest_scores)\n",
        "display_scores(forest_rmse)"
      ],
      "execution_count": null,
      "outputs": [
        {
          "output_type": "stream",
          "text": [
            "Scores: [52.45511061 52.08132582 53.77398207 52.26699348 52.18841584 55.66384459\n",
            " 52.41310875 51.03975485 51.53264413 49.85568045]\n",
            "Mean: 52.32708605852341\n",
            "Standard Deviation: 1.4741336346569553\n"
          ],
          "name": "stdout"
        }
      ]
    },
    {
      "cell_type": "markdown",
      "metadata": {
        "id": "neCc7wrsk9o3"
      },
      "source": [
        "## Random Forest Regressor Training"
      ]
    },
    {
      "cell_type": "code",
      "metadata": {
        "id": "2-rSsQZfXw6c"
      },
      "source": [
        "import sklearn as sk\n",
        "from sklearn.ensemble import RandomForestRegressor\n",
        "from sklearn.metrics import accuracy_score, precision_score, recall_score"
      ],
      "execution_count": null,
      "outputs": []
    },
    {
      "cell_type": "code",
      "metadata": {
        "id": "fYBHdRfnG6Iu",
        "outputId": "82279122-b835-4c17-97de-e86c0d0a29ad",
        "colab": {
          "base_uri": "https://localhost:8080/",
          "height": 215
        }
      },
      "source": [
        "model = RandomForestRegressor(random_state=42)\n",
        "model = model.fit(X_train,y_train)\n",
        "\n",
        "ypred = model.predict(X_validation)"
      ],
      "execution_count": null,
      "outputs": [
        {
          "output_type": "error",
          "ename": "NameError",
          "evalue": "ignored",
          "traceback": [
            "\u001b[0;31m---------------------------------------------------------------------------\u001b[0m",
            "\u001b[0;31mNameError\u001b[0m                                 Traceback (most recent call last)",
            "\u001b[0;32m<ipython-input-65-c15817e6db38>\u001b[0m in \u001b[0;36m<module>\u001b[0;34m()\u001b[0m\n\u001b[1;32m      1\u001b[0m \u001b[0mmodel\u001b[0m \u001b[0;34m=\u001b[0m \u001b[0mRandomForestRegressor\u001b[0m\u001b[0;34m(\u001b[0m\u001b[0mrandom_state\u001b[0m\u001b[0;34m=\u001b[0m\u001b[0;36m42\u001b[0m\u001b[0;34m)\u001b[0m\u001b[0;34m\u001b[0m\u001b[0;34m\u001b[0m\u001b[0m\n\u001b[0;32m----> 2\u001b[0;31m \u001b[0mmodel\u001b[0m \u001b[0;34m=\u001b[0m \u001b[0mmodel\u001b[0m\u001b[0;34m.\u001b[0m\u001b[0mfit\u001b[0m\u001b[0;34m(\u001b[0m\u001b[0mX_train\u001b[0m\u001b[0;34m,\u001b[0m\u001b[0my_train\u001b[0m\u001b[0;34m)\u001b[0m\u001b[0;34m\u001b[0m\u001b[0;34m\u001b[0m\u001b[0m\n\u001b[0m\u001b[1;32m      3\u001b[0m \u001b[0;34m\u001b[0m\u001b[0m\n\u001b[1;32m      4\u001b[0m \u001b[0mypred\u001b[0m \u001b[0;34m=\u001b[0m \u001b[0mmodel\u001b[0m\u001b[0;34m.\u001b[0m\u001b[0mpredict\u001b[0m\u001b[0;34m(\u001b[0m\u001b[0mX_validation\u001b[0m\u001b[0;34m)\u001b[0m\u001b[0;34m\u001b[0m\u001b[0;34m\u001b[0m\u001b[0m\n",
            "\u001b[0;31mNameError\u001b[0m: name 'X_train' is not defined"
          ]
        }
      ]
    },
    {
      "cell_type": "code",
      "metadata": {
        "id": "yaLvALLoY9gM"
      },
      "source": [
        "from sklearn.metrics import median_absolute_error\n",
        "from sklearn.metrics import mean_squared_error"
      ],
      "execution_count": null,
      "outputs": []
    },
    {
      "cell_type": "code",
      "metadata": {
        "id": "dqwrBbvHG9pW",
        "outputId": "e332e42f-0410-4d33-f129-ad3b9b0f6cab",
        "colab": {
          "base_uri": "https://localhost:8080/",
          "height": 232
        }
      },
      "source": [
        "two_features_mse = mean_squared_error(y_validation, ypred)\n",
        "two_features_rmse = two_features_mse ** (1/2)\n",
        "\n",
        "med_error = median_absolute_error(y_validation, ypred)\n",
        "\n",
        "print(two_features_rmse)\n",
        "print(two_features_mse)\n",
        "print(med_error)"
      ],
      "execution_count": null,
      "outputs": [
        {
          "output_type": "error",
          "ename": "NameError",
          "evalue": "ignored",
          "traceback": [
            "\u001b[0;31m---------------------------------------------------------------------------\u001b[0m",
            "\u001b[0;31mNameError\u001b[0m                                 Traceback (most recent call last)",
            "\u001b[0;32m<ipython-input-67-d98e354cf292>\u001b[0m in \u001b[0;36m<module>\u001b[0;34m()\u001b[0m\n\u001b[0;32m----> 1\u001b[0;31m \u001b[0mtwo_features_mse\u001b[0m \u001b[0;34m=\u001b[0m \u001b[0mmean_squared_error\u001b[0m\u001b[0;34m(\u001b[0m\u001b[0my_validation\u001b[0m\u001b[0;34m,\u001b[0m \u001b[0mypred\u001b[0m\u001b[0;34m)\u001b[0m\u001b[0;34m\u001b[0m\u001b[0;34m\u001b[0m\u001b[0m\n\u001b[0m\u001b[1;32m      2\u001b[0m \u001b[0mtwo_features_rmse\u001b[0m \u001b[0;34m=\u001b[0m \u001b[0mtwo_features_mse\u001b[0m \u001b[0;34m**\u001b[0m \u001b[0;34m(\u001b[0m\u001b[0;36m1\u001b[0m\u001b[0;34m/\u001b[0m\u001b[0;36m2\u001b[0m\u001b[0;34m)\u001b[0m\u001b[0;34m\u001b[0m\u001b[0;34m\u001b[0m\u001b[0m\n\u001b[1;32m      3\u001b[0m \u001b[0;34m\u001b[0m\u001b[0m\n\u001b[1;32m      4\u001b[0m \u001b[0mmed_error\u001b[0m \u001b[0;34m=\u001b[0m \u001b[0mmedian_absolute_error\u001b[0m\u001b[0;34m(\u001b[0m\u001b[0my_validation\u001b[0m\u001b[0;34m,\u001b[0m \u001b[0mypred\u001b[0m\u001b[0;34m)\u001b[0m\u001b[0;34m\u001b[0m\u001b[0;34m\u001b[0m\u001b[0m\n\u001b[1;32m      5\u001b[0m \u001b[0;34m\u001b[0m\u001b[0m\n",
            "\u001b[0;31mNameError\u001b[0m: name 'y_validation' is not defined"
          ]
        }
      ]
    },
    {
      "cell_type": "markdown",
      "metadata": {
        "id": "8FViJw_vXwC5"
      },
      "source": [
        "##Hyperparameter Tuning"
      ]
    },
    {
      "cell_type": "code",
      "metadata": {
        "id": "E06YqNpavYBs"
      },
      "source": [
        "# RandomizedSearchCV creates all the possible combinations of the parameters for \n",
        "# the random forest given and tries each one to identify the most accurate"
      ],
      "execution_count": null,
      "outputs": []
    },
    {
      "cell_type": "code",
      "metadata": {
        "id": "0Gqjzoxseih2"
      },
      "source": [
        "# Number of trees in random forest\n",
        "n_estimators = [int(x) for x in np.linspace(start = 200, stop = 2000, num = 10)]\n",
        "# Number of features to consider at every split\n",
        "max_features = ['auto', 'sqrt']\n",
        "# Maximum number of levels in tree\n",
        "max_depth = [int(x) for x in np.linspace(10, 110, num = 11)]\n",
        "max_depth.append(None)\n",
        "# Minimum number of samples required to split a node\n",
        "min_samples_split = [2, 5, 10]\n",
        "# Minimum number of samples required at each leaf node\n",
        "min_samples_leaf = [1, 2, 4]\n",
        "# Method of selecting samples for training each tree\n",
        "bootstrap = [True, False]\n",
        "# Create the random grid\n",
        "random_grid = {'n_estimators': n_estimators,\n",
        "               'max_features': max_features,\n",
        "               'max_depth': max_depth,\n",
        "               'min_samples_split': min_samples_split,\n",
        "               'min_samples_leaf': min_samples_leaf,\n",
        "               'bootstrap': bootstrap}"
      ],
      "execution_count": null,
      "outputs": []
    },
    {
      "cell_type": "code",
      "metadata": {
        "id": "OTw55xrhek_A"
      },
      "source": [
        "from sklearn.model_selection import RandomizedSearchCV\n",
        "\n",
        "model = RandomForestRegressor()\n",
        "model_random = RandomizedSearchCV(estimator = model, param_distributions = random_grid, n_iter = 100, cv = 3, verbose=2, random_state=42, n_jobs = -1)"
      ],
      "execution_count": null,
      "outputs": []
    },
    {
      "cell_type": "code",
      "metadata": {
        "id": "Jur3b-qsfFO1",
        "outputId": "d006ea64-2777-497e-99f0-eb744890d1c3",
        "colab": {
          "base_uri": "https://localhost:8080/",
          "height": 102
        }
      },
      "source": [
        "model_random = model_random.fit(X_train,y_train)"
      ],
      "execution_count": null,
      "outputs": [
        {
          "output_type": "stream",
          "text": [
            "Fitting 3 folds for each of 100 candidates, totalling 300 fits\n"
          ],
          "name": "stdout"
        },
        {
          "output_type": "stream",
          "text": [
            "[Parallel(n_jobs=-1)]: Using backend LokyBackend with 2 concurrent workers.\n",
            "[Parallel(n_jobs=-1)]: Done  37 tasks      | elapsed: 27.3min\n",
            "[Parallel(n_jobs=-1)]: Done 158 tasks      | elapsed: 126.1min\n",
            "[Parallel(n_jobs=-1)]: Done 300 out of 300 | elapsed: 235.9min finished\n"
          ],
          "name": "stderr"
        }
      ]
    },
    {
      "cell_type": "code",
      "metadata": {
        "id": "45vKpki7gEYm",
        "outputId": "b318647b-1c65-4d8b-b718-c9fd29a590a3",
        "colab": {
          "base_uri": "https://localhost:8080/",
          "height": 119
        }
      },
      "source": [
        "model_random.best_params_"
      ],
      "execution_count": null,
      "outputs": [
        {
          "output_type": "execute_result",
          "data": {
            "text/plain": [
              "{'bootstrap': True,\n",
              " 'max_depth': 20,\n",
              " 'max_features': 'sqrt',\n",
              " 'min_samples_leaf': 1,\n",
              " 'min_samples_split': 10,\n",
              " 'n_estimators': 1600}"
            ]
          },
          "metadata": {
            "tags": []
          },
          "execution_count": 101
        }
      ]
    },
    {
      "cell_type": "code",
      "metadata": {
        "id": "Xt-IDzjwk_cG"
      },
      "source": [
        "model = RandomForestRegressor(random_state=42, bootstrap=True, max_depth=20, max_features='sqrt',min_samples_leaf=1,min_samples_split=10, n_estimators=1600)\n",
        "model = model.fit(X_train,y_train)\n",
        "\n",
        "ypred = model.predict(X_validation)"
      ],
      "execution_count": null,
      "outputs": []
    },
    {
      "cell_type": "code",
      "metadata": {
        "id": "COBBxKycY1QY",
        "outputId": "ab583488-de73-4b5a-d492-6f74636e0679",
        "colab": {
          "base_uri": "https://localhost:8080/",
          "height": 68
        }
      },
      "source": [
        "print(two_features_rmse)\n",
        "print(two_features_mse)\n",
        "print(med_error)"
      ],
      "execution_count": null,
      "outputs": [
        {
          "output_type": "stream",
          "text": [
            "51.50469352127753\n",
            "2652.7334547207274\n",
            "20.66949190573878\n"
          ],
          "name": "stdout"
        }
      ]
    },
    {
      "cell_type": "markdown",
      "metadata": {
        "id": "eWs1N4QNiwJd"
      },
      "source": [
        "## Recursive Feature Elimination with Cross-Validation"
      ]
    },
    {
      "cell_type": "code",
      "metadata": {
        "id": "1CaBbsjSi9pc"
      },
      "source": [
        "from sklearn.feature_selection import RFECV"
      ],
      "execution_count": null,
      "outputs": []
    },
    {
      "cell_type": "code",
      "metadata": {
        "id": "cZIV9h2cjDCK"
      },
      "source": [
        "selector = RFECV(model, step=1, cv=3, verbose=2)\n",
        "selector = selector.fit(X_train,y_train)"
      ],
      "execution_count": null,
      "outputs": []
    },
    {
      "cell_type": "code",
      "metadata": {
        "id": "aIOl8EBSjF-Q",
        "outputId": "5b1cef75-7e7c-4570-fe6f-5e41dde7d2e5",
        "colab": {
          "base_uri": "https://localhost:8080/",
          "height": 232
        }
      },
      "source": [
        "sel = RandomForestRegressor(bootstrap=True, ccp_alpha=0.0, criterion='mse',\n",
        "                       max_depth=20, max_features='sqrt', max_leaf_nodes=None,\n",
        "                       max_samples=None, min_impurity_decrease=0.0,\n",
        "                       min_impurity_split=None, min_samples_leaf=1,\n",
        "                       min_samples_split=10, min_weight_fraction_leaf=0.0,\n",
        "                       n_estimators=1600, n_jobs=None, oob_score=False,\n",
        "                       random_state=42, verbose=0, warm_start=False)\n",
        "sel = sel.fit(X_train,y_train)\n",
        "\n",
        "ypred = sel.predict(X_validation)"
      ],
      "execution_count": null,
      "outputs": [
        {
          "output_type": "error",
          "ename": "NameError",
          "evalue": "ignored",
          "traceback": [
            "\u001b[0;31m---------------------------------------------------------------------------\u001b[0m",
            "\u001b[0;31mNameError\u001b[0m                                 Traceback (most recent call last)",
            "\u001b[0;32m<ipython-input-69-e9f67f10dbd2>\u001b[0m in \u001b[0;36m<module>\u001b[0;34m()\u001b[0m\n\u001b[1;32m      6\u001b[0m                        \u001b[0mn_estimators\u001b[0m\u001b[0;34m=\u001b[0m\u001b[0;36m1600\u001b[0m\u001b[0;34m,\u001b[0m \u001b[0mn_jobs\u001b[0m\u001b[0;34m=\u001b[0m\u001b[0;32mNone\u001b[0m\u001b[0;34m,\u001b[0m \u001b[0moob_score\u001b[0m\u001b[0;34m=\u001b[0m\u001b[0;32mFalse\u001b[0m\u001b[0;34m,\u001b[0m\u001b[0;34m\u001b[0m\u001b[0;34m\u001b[0m\u001b[0m\n\u001b[1;32m      7\u001b[0m                        random_state=42, verbose=0, warm_start=False)\n\u001b[0;32m----> 8\u001b[0;31m \u001b[0msel\u001b[0m \u001b[0;34m=\u001b[0m \u001b[0msel\u001b[0m\u001b[0;34m.\u001b[0m\u001b[0mfit\u001b[0m\u001b[0;34m(\u001b[0m\u001b[0mX_train\u001b[0m\u001b[0;34m,\u001b[0m\u001b[0my_train\u001b[0m\u001b[0;34m)\u001b[0m\u001b[0;34m\u001b[0m\u001b[0;34m\u001b[0m\u001b[0m\n\u001b[0m\u001b[1;32m      9\u001b[0m \u001b[0;34m\u001b[0m\u001b[0m\n\u001b[1;32m     10\u001b[0m \u001b[0mypred\u001b[0m \u001b[0;34m=\u001b[0m \u001b[0msel\u001b[0m\u001b[0;34m.\u001b[0m\u001b[0mpredict\u001b[0m\u001b[0;34m(\u001b[0m\u001b[0mX_validation\u001b[0m\u001b[0;34m)\u001b[0m\u001b[0;34m\u001b[0m\u001b[0;34m\u001b[0m\u001b[0m\n",
            "\u001b[0;31mNameError\u001b[0m: name 'X_train' is not defined"
          ]
        }
      ]
    },
    {
      "cell_type": "markdown",
      "metadata": {
        "id": "F9TvbfZT4dM_"
      },
      "source": [
        "## Converting exact price to price range"
      ]
    },
    {
      "cell_type": "code",
      "metadata": {
        "id": "GV62oMlJll8w",
        "outputId": "0fbb6f76-5270-491a-a142-0e1c464d2ec8",
        "colab": {
          "base_uri": "https://localhost:8080/",
          "height": 850
        }
      },
      "source": [
        "params = list(zip(X_train, model.feature_importances_))\n",
        "params.sort(key=lambda tup: tup[1])\n",
        "params"
      ],
      "execution_count": null,
      "outputs": [
        {
          "output_type": "execute_result",
          "data": {
            "text/plain": [
              "[('House', 0.0),\n",
              " ('Guest suite', 3.565344222123803e-07),\n",
              " ('Private room', 2.0610874402558313e-06),\n",
              " ('Pull-out Sofa', 3.5625206838390005e-06),\n",
              " ('moderate', 4.173744713264935e-06),\n",
              " ('Shared room', 4.277619247314772e-06),\n",
              " ('Futon', 5.010423179494555e-06),\n",
              " ('Condominium', 5.555139153615694e-06),\n",
              " ('Other', 7.233642451919802e-06),\n",
              " ('Earth House', 1.4715460882737657e-05),\n",
              " ('Hostel', 1.590913286438329e-05),\n",
              " ('Lighthouse', 4.042472556487929e-05),\n",
              " ('Entire home/apt', 4.7620553681300584e-05),\n",
              " ('Hut', 5.789923557328348e-05),\n",
              " ('Villa', 7.497867681491095e-05),\n",
              " ('Dorm', 7.694232822909707e-05),\n",
              " ('In-law', 0.00013502377807553682),\n",
              " ('Vacation home', 0.00020064182964615735),\n",
              " ('strict', 0.00020671551379268906),\n",
              " ('Boutique hotel', 0.00028856780285555395),\n",
              " ('Cabin', 0.00044800836440900716),\n",
              " ('Chalet', 0.00045760017866904685),\n",
              " ('Boat', 0.0004997577376078925),\n",
              " ('Bungalow', 0.0006122934426487662),\n",
              " ('Timeshare', 0.000935376747437506),\n",
              " ('Serviced apartment', 0.0011093249481270396),\n",
              " ('Couch', 0.0011187413848252929),\n",
              " ('Townhouse', 0.0015291811237239576),\n",
              " ('Castle', 0.0017965091278541615),\n",
              " ('flexible', 0.002854984850090808),\n",
              " ('t', 0.0032712984788404787),\n",
              " ('super_strict_30', 0.0033707523437164753),\n",
              " ('Loft', 0.0036528507886230705),\n",
              " ('Real Bed', 0.0037449216193076707),\n",
              " ('Guesthouse', 0.003775925423703632),\n",
              " ('f', 0.004194113601317124),\n",
              " ('no_refunds', 0.006521611704058847),\n",
              " ('Cave', 0.007401727742068381),\n",
              " ('Bed & Breakfast', 0.00892364598965197),\n",
              " ('Normalized rating', 0.03436321326885442),\n",
              " ('venues_rating', 0.04340700844503074),\n",
              " ('bathrooms', 0.06949251630244557),\n",
              " ('beds', 0.07107200032835884),\n",
              " ('Apartment', 0.10660889359231757),\n",
              " ('accommodates', 0.1132675118949002),\n",
              " ('num_venues', 0.11553067760123838),\n",
              " ('bedrooms', 0.11909613704108923),\n",
              " ('realestate', 0.12407269375494018),\n",
              " ('Airbed', 0.14567905242487145)]"
            ]
          },
          "metadata": {
            "tags": []
          },
          "execution_count": 105
        }
      ]
    },
    {
      "cell_type": "code",
      "metadata": {
        "id": "4CA9ZPCnwz7C"
      },
      "source": [
        "predict_copy = ypred.copy()"
      ],
      "execution_count": null,
      "outputs": []
    },
    {
      "cell_type": "code",
      "metadata": {
        "id": "PTKWT7g_xjCJ"
      },
      "source": [
        "test = np.ndarray(shape=(len(predict_copy),2), dtype=float, buffer = np.zeros(2*len(predict_copy)))"
      ],
      "execution_count": null,
      "outputs": []
    },
    {
      "cell_type": "code",
      "metadata": {
        "id": "C5iW5y8Tw4dW",
        "outputId": "b63edc10-401f-41fc-b43f-90e7f12a88dd",
        "colab": {
          "base_uri": "https://localhost:8080/",
          "height": 136
        }
      },
      "source": [
        "for i in range(len(predict_copy)):\n",
        "    test[i]= [predict_copy[i]-25,predict_copy[i]+25]\n",
        "test"
      ],
      "execution_count": null,
      "outputs": [
        {
          "output_type": "execute_result",
          "data": {
            "text/plain": [
              "array([[ 79.65566425, 129.65566425],\n",
              "       [175.70474983, 225.70474983],\n",
              "       [212.24339929, 262.24339929],\n",
              "       ...,\n",
              "       [104.63287961, 154.63287961],\n",
              "       [ 34.052506  ,  84.052506  ],\n",
              "       [ 37.97945294,  87.97945294]])"
            ]
          },
          "metadata": {
            "tags": []
          },
          "execution_count": 108
        }
      ]
    },
    {
      "cell_type": "code",
      "metadata": {
        "id": "qoxYTPwu0xgi"
      },
      "source": [
        "correct = 0 "
      ],
      "execution_count": null,
      "outputs": []
    },
    {
      "cell_type": "code",
      "metadata": {
        "id": "ifR74c4O07p2"
      },
      "source": [
        "list_correct = list(y_validation)"
      ],
      "execution_count": null,
      "outputs": []
    },
    {
      "cell_type": "code",
      "metadata": {
        "id": "Q_K7I62S0UWh"
      },
      "source": [
        "for i in range(len(predict_copy)):\n",
        "  if test[i][0]<=list_correct[i]<=test[i][1]:\n",
        "    correct += 1"
      ],
      "execution_count": null,
      "outputs": []
    },
    {
      "cell_type": "code",
      "metadata": {
        "id": "Sabn_tAd1lTi",
        "outputId": "1adecfd5-4d6d-4063-ff96-fef58ad8bda3",
        "colab": {
          "base_uri": "https://localhost:8080/",
          "height": 34
        }
      },
      "source": [
        "correct/len(predict_copy)"
      ],
      "execution_count": null,
      "outputs": [
        {
          "output_type": "execute_result",
          "data": {
            "text/plain": [
              "0.570639586673793"
            ]
          },
          "metadata": {
            "tags": []
          },
          "execution_count": 112
        }
      ]
    },
    {
      "cell_type": "code",
      "metadata": {
        "id": "rbYCwIjX4ALB",
        "outputId": "8d34a95e-e230-479f-ef25-eee12a5fc730",
        "colab": {
          "base_uri": "https://localhost:8080/",
          "height": 527
        }
      },
      "source": [
        "for i in range(10):\n",
        "  print(list_correct[i])\n",
        "  print(ypred[i])\n",
        "  print('/n')"
      ],
      "execution_count": null,
      "outputs": [
        {
          "output_type": "stream",
          "text": [
            "77.0\n",
            "104.65566425062745\n",
            "/n\n",
            "250.0\n",
            "200.70474982856885\n",
            "/n\n",
            "260.0\n",
            "237.24339929244877\n",
            "/n\n",
            "75.0\n",
            "124.53811555459257\n",
            "/n\n",
            "120.0\n",
            "134.32165024250952\n",
            "/n\n",
            "55.0\n",
            "52.14618637035753\n",
            "/n\n",
            "180.0\n",
            "179.95389225977345\n",
            "/n\n",
            "235.0\n",
            "279.92584403088216\n",
            "/n\n",
            "100.0\n",
            "64.92113219259596\n",
            "/n\n",
            "300.0\n",
            "244.52281793368172\n",
            "/n\n"
          ],
          "name": "stdout"
        }
      ]
    },
    {
      "cell_type": "code",
      "metadata": {
        "id": "W60cRLABXWgR"
      },
      "source": [
        ""
      ],
      "execution_count": null,
      "outputs": []
    },
    {
      "cell_type": "code",
      "metadata": {
        "id": "EfpVMTGIPVE7",
        "outputId": "049b3764-4fa0-4acc-9b1e-3d2a8a3122ba",
        "colab": {
          "base_uri": "https://localhost:8080/",
          "height": 955
        }
      },
      "source": [
        "!cat /proc/cpuinfo"
      ],
      "execution_count": null,
      "outputs": [
        {
          "output_type": "stream",
          "text": [
            "processor\t: 0\n",
            "vendor_id\t: GenuineIntel\n",
            "cpu family\t: 6\n",
            "model\t\t: 63\n",
            "model name\t: Intel(R) Xeon(R) CPU @ 2.30GHz\n",
            "stepping\t: 0\n",
            "microcode\t: 0x1\n",
            "cpu MHz\t\t: 2300.000\n",
            "cache size\t: 46080 KB\n",
            "physical id\t: 0\n",
            "siblings\t: 2\n",
            "core id\t\t: 0\n",
            "cpu cores\t: 1\n",
            "apicid\t\t: 0\n",
            "initial apicid\t: 0\n",
            "fpu\t\t: yes\n",
            "fpu_exception\t: yes\n",
            "cpuid level\t: 13\n",
            "wp\t\t: yes\n",
            "flags\t\t: fpu vme de pse tsc msr pae mce cx8 apic sep mtrr pge mca cmov pat pse36 clflush mmx fxsr sse sse2 ss ht syscall nx pdpe1gb rdtscp lm constant_tsc rep_good nopl xtopology nonstop_tsc cpuid tsc_known_freq pni pclmulqdq ssse3 fma cx16 pcid sse4_1 sse4_2 x2apic movbe popcnt aes xsave avx f16c rdrand hypervisor lahf_lm abm invpcid_single ssbd ibrs ibpb stibp fsgsbase tsc_adjust bmi1 avx2 smep bmi2 erms invpcid xsaveopt arat md_clear arch_capabilities\n",
            "bugs\t\t: cpu_meltdown spectre_v1 spectre_v2 spec_store_bypass l1tf mds swapgs itlb_multihit\n",
            "bogomips\t: 4600.00\n",
            "clflush size\t: 64\n",
            "cache_alignment\t: 64\n",
            "address sizes\t: 46 bits physical, 48 bits virtual\n",
            "power management:\n",
            "\n",
            "processor\t: 1\n",
            "vendor_id\t: GenuineIntel\n",
            "cpu family\t: 6\n",
            "model\t\t: 63\n",
            "model name\t: Intel(R) Xeon(R) CPU @ 2.30GHz\n",
            "stepping\t: 0\n",
            "microcode\t: 0x1\n",
            "cpu MHz\t\t: 2300.000\n",
            "cache size\t: 46080 KB\n",
            "physical id\t: 0\n",
            "siblings\t: 2\n",
            "core id\t\t: 0\n",
            "cpu cores\t: 1\n",
            "apicid\t\t: 1\n",
            "initial apicid\t: 1\n",
            "fpu\t\t: yes\n",
            "fpu_exception\t: yes\n",
            "cpuid level\t: 13\n",
            "wp\t\t: yes\n",
            "flags\t\t: fpu vme de pse tsc msr pae mce cx8 apic sep mtrr pge mca cmov pat pse36 clflush mmx fxsr sse sse2 ss ht syscall nx pdpe1gb rdtscp lm constant_tsc rep_good nopl xtopology nonstop_tsc cpuid tsc_known_freq pni pclmulqdq ssse3 fma cx16 pcid sse4_1 sse4_2 x2apic movbe popcnt aes xsave avx f16c rdrand hypervisor lahf_lm abm invpcid_single ssbd ibrs ibpb stibp fsgsbase tsc_adjust bmi1 avx2 smep bmi2 erms invpcid xsaveopt arat md_clear arch_capabilities\n",
            "bugs\t\t: cpu_meltdown spectre_v1 spectre_v2 spec_store_bypass l1tf mds swapgs itlb_multihit\n",
            "bogomips\t: 4600.00\n",
            "clflush size\t: 64\n",
            "cache_alignment\t: 64\n",
            "address sizes\t: 46 bits physical, 48 bits virtual\n",
            "power management:\n",
            "\n"
          ],
          "name": "stdout"
        }
      ]
    },
    {
      "cell_type": "code",
      "metadata": {
        "id": "4Vj37ZfNPVz1"
      },
      "source": [
        ""
      ],
      "execution_count": null,
      "outputs": []
    }
  ]
}